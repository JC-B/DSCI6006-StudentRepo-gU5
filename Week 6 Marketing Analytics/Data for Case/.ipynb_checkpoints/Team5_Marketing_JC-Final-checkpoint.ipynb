{
 "cells": [
  {
   "cell_type": "markdown",
   "metadata": {},
   "source": [
    "# Customer Analytics - Customer Lifetime Value\n",
    "---\n",
    "**Team 5:**  `Gavin, JC, Vanessa`"
   ]
  },
  {
   "cell_type": "code",
   "execution_count": 1,
   "metadata": {
    "collapsed": false,
    "deletable": true,
    "editable": true
   },
   "outputs": [
    {
     "name": "stdout",
     "output_type": "stream",
     "text": [
      "Populating the interactive namespace from numpy and matplotlib\n"
     ]
    },
    {
     "name": "stderr",
     "output_type": "stream",
     "text": [
      "/Users/jaichitra.balakrishnan/anaconda3/lib/python3.6/site-packages/IPython/core/magics/pylab.py:161: UserWarning: pylab import has clobbered these variables: ['relativedelta']\n",
      "`%matplotlib` prevents importing * from pylab and numpy\n",
      "  \"\\n`%matplotlib` prevents importing * from pylab and numpy\"\n"
     ]
    }
   ],
   "source": [
    "import pandas as pd\n",
    "import numpy as np\n",
    "import seaborn as sns\n",
    "import datetime\n",
    "from dateutil import relativedelta\n",
    "import datetime\n",
    "%pylab inline\n",
    "import numpy as np\n",
    "import matplotlib.pyplot as plt\n",
    "import matplotlib.ticker as tkr"
   ]
  },
  {
   "cell_type": "markdown",
   "metadata": {},
   "source": [
    "### Load and prep purchase data"
   ]
  },
  {
   "cell_type": "code",
   "execution_count": 2,
   "metadata": {
    "collapsed": false,
    "deletable": true,
    "editable": true
   },
   "outputs": [],
   "source": [
    "col_names = ['customer_id','amount','date']\n",
    "original_df = pd.read_csv('purchases.txt',delimiter='\\t',names=col_names)\n",
    "original_df.date = pd.to_datetime(original_df['date']) ## datetime"
   ]
  },
  {
   "cell_type": "markdown",
   "metadata": {},
   "source": [
    "### Basic EDA"
   ]
  },
  {
   "cell_type": "code",
   "execution_count": 3,
   "metadata": {
    "collapsed": false
   },
   "outputs": [
    {
     "data": {
      "text/plain": [
       "(Timestamp('2005-01-02 00:00:00'),\n",
       " Timestamp('2015-12-31 00:00:00'),\n",
       " 5.0,\n",
       " 4500.0)"
      ]
     },
     "execution_count": 3,
     "metadata": {},
     "output_type": "execute_result"
    }
   ],
   "source": [
    "# Find min and max date and amount in data set\n",
    "min(original_df['date']), max(original_df['date']), min(original_df['amount']), max(original_df['amount'])"
   ]
  },
  {
   "cell_type": "code",
   "execution_count": 4,
   "metadata": {
    "collapsed": false
   },
   "outputs": [
    {
     "data": {
      "text/plain": [
       "10"
      ]
     },
     "execution_count": 4,
     "metadata": {},
     "output_type": "execute_result"
    }
   ],
   "source": [
    "# Find number of years passed since first purchase as of today\n",
    "datetime.datetime(2015,12,31).year -  min(original_df['date']).year"
   ]
  },
  {
   "cell_type": "code",
   "execution_count": 6,
   "metadata": {
    "collapsed": false
   },
   "outputs": [
    {
     "data": {
      "text/plain": [
       "5398"
      ]
     },
     "execution_count": 6,
     "metadata": {},
     "output_type": "execute_result"
    }
   ],
   "source": [
    "len(original_df[original_df['date'] >= '01-01-2015'].customer_id.unique())"
   ]
  },
  {
   "cell_type": "markdown",
   "metadata": {},
   "source": [
    "### Fix current / start date of analysis"
   ]
  },
  {
   "cell_type": "code",
   "execution_count": 7,
   "metadata": {
    "collapsed": true
   },
   "outputs": [],
   "source": [
    "start_date = datetime.datetime(2015,12,31)"
   ]
  },
  {
   "cell_type": "markdown",
   "metadata": {},
   "source": [
    "### RFM Matrix - Customer Wise"
   ]
  },
  {
   "cell_type": "markdown",
   "metadata": {},
   "source": [
    "#### Frequency"
   ]
  },
  {
   "cell_type": "code",
   "execution_count": 8,
   "metadata": {
    "collapsed": false
   },
   "outputs": [
    {
     "name": "stdout",
     "output_type": "stream",
     "text": [
      "Average purchases 2.7823749796383774\n",
      "Median purchases 2.0\n"
     ]
    }
   ],
   "source": [
    "## On average people make 2.78 purchases\n",
    "print('Average purchases', np.mean(original_df.groupby(by=['customer_id']).count()['amount']))\n",
    "# Median purcahses are 2.0\n",
    "print('Median purchases', np.median(original_df.groupby(by=['customer_id']).count()['amount']))"
   ]
  },
  {
   "cell_type": "code",
   "execution_count": 9,
   "metadata": {
    "collapsed": false
   },
   "outputs": [
    {
     "data": {
      "text/html": [
       "<div>\n",
       "<table border=\"1\" class=\"dataframe\">\n",
       "  <thead>\n",
       "    <tr style=\"text-align: right;\">\n",
       "      <th></th>\n",
       "      <th>customer_id</th>\n",
       "      <th>number_of_purchases</th>\n",
       "    </tr>\n",
       "  </thead>\n",
       "  <tbody>\n",
       "    <tr>\n",
       "      <th>0</th>\n",
       "      <td>10</td>\n",
       "      <td>1</td>\n",
       "    </tr>\n",
       "    <tr>\n",
       "      <th>1</th>\n",
       "      <td>80</td>\n",
       "      <td>7</td>\n",
       "    </tr>\n",
       "    <tr>\n",
       "      <th>2</th>\n",
       "      <td>90</td>\n",
       "      <td>10</td>\n",
       "    </tr>\n",
       "    <tr>\n",
       "      <th>3</th>\n",
       "      <td>120</td>\n",
       "      <td>1</td>\n",
       "    </tr>\n",
       "    <tr>\n",
       "      <th>4</th>\n",
       "      <td>130</td>\n",
       "      <td>2</td>\n",
       "    </tr>\n",
       "  </tbody>\n",
       "</table>\n",
       "</div>"
      ],
      "text/plain": [
       "   customer_id  number_of_purchases\n",
       "0           10                    1\n",
       "1           80                    7\n",
       "2           90                   10\n",
       "3          120                    1\n",
       "4          130                    2"
      ]
     },
     "execution_count": 9,
     "metadata": {},
     "output_type": "execute_result"
    }
   ],
   "source": [
    "freq_df = original_df.groupby(['customer_id']).amount.count().reset_index()\n",
    "freq_df.columns = ['customer_id', 'number_of_purchases']\n",
    "freq_df.head()"
   ]
  },
  {
   "cell_type": "markdown",
   "metadata": {},
   "source": [
    "#### Monetary"
   ]
  },
  {
   "cell_type": "code",
   "execution_count": 10,
   "metadata": {
    "collapsed": false
   },
   "outputs": [
    {
     "name": "stdout",
     "output_type": "stream",
     "text": [
      "Average purchase amount 57.79298510181551\n",
      "Median purchase amount 30.0\n"
     ]
    }
   ],
   "source": [
    "## On average people make 2.78 purchases\n",
    "print('Average purchase amount', np.mean(original_df.groupby(by=['customer_id']).amount.mean()))\n",
    "# Median purcahses are 2.0\n",
    "print('Median purchase amount', np.median(original_df.groupby(by=['customer_id']).amount.mean()))"
   ]
  },
  {
   "cell_type": "code",
   "execution_count": 11,
   "metadata": {
    "collapsed": false
   },
   "outputs": [
    {
     "data": {
      "text/html": [
       "<div>\n",
       "<table border=\"1\" class=\"dataframe\">\n",
       "  <thead>\n",
       "    <tr style=\"text-align: right;\">\n",
       "      <th></th>\n",
       "      <th>customer_id</th>\n",
       "      <th>average_amount</th>\n",
       "    </tr>\n",
       "  </thead>\n",
       "  <tbody>\n",
       "    <tr>\n",
       "      <th>0</th>\n",
       "      <td>10</td>\n",
       "      <td>30.000000</td>\n",
       "    </tr>\n",
       "    <tr>\n",
       "      <th>1</th>\n",
       "      <td>80</td>\n",
       "      <td>71.428571</td>\n",
       "    </tr>\n",
       "    <tr>\n",
       "      <th>2</th>\n",
       "      <td>90</td>\n",
       "      <td>115.800000</td>\n",
       "    </tr>\n",
       "    <tr>\n",
       "      <th>3</th>\n",
       "      <td>120</td>\n",
       "      <td>20.000000</td>\n",
       "    </tr>\n",
       "    <tr>\n",
       "      <th>4</th>\n",
       "      <td>130</td>\n",
       "      <td>50.000000</td>\n",
       "    </tr>\n",
       "  </tbody>\n",
       "</table>\n",
       "</div>"
      ],
      "text/plain": [
       "   customer_id  average_amount\n",
       "0           10       30.000000\n",
       "1           80       71.428571\n",
       "2           90      115.800000\n",
       "3          120       20.000000\n",
       "4          130       50.000000"
      ]
     },
     "execution_count": 11,
     "metadata": {},
     "output_type": "execute_result"
    }
   ],
   "source": [
    "monetary_df = original_df.groupby(['customer_id']).amount.mean().reset_index()\n",
    "monetary_df.columns = ['customer_id', 'average_amount']\n",
    "monetary_df.head()"
   ]
  },
  {
   "cell_type": "markdown",
   "metadata": {},
   "source": [
    "#### Recency"
   ]
  },
  {
   "cell_type": "code",
   "execution_count": 12,
   "metadata": {
    "collapsed": false,
    "scrolled": false
   },
   "outputs": [
    {
     "data": {
      "text/html": [
       "<div>\n",
       "<table border=\"1\" class=\"dataframe\">\n",
       "  <thead>\n",
       "    <tr style=\"text-align: right;\">\n",
       "      <th></th>\n",
       "      <th>customer_id</th>\n",
       "      <th>amount</th>\n",
       "      <th>date</th>\n",
       "      <th>state_1</th>\n",
       "      <th>state_2</th>\n",
       "      <th>state_3</th>\n",
       "      <th>state_4</th>\n",
       "      <th>state_5</th>\n",
       "      <th>state_6</th>\n",
       "      <th>state_7</th>\n",
       "      <th>state_8</th>\n",
       "      <th>state_9</th>\n",
       "      <th>state_10</th>\n",
       "      <th>state_11</th>\n",
       "    </tr>\n",
       "  </thead>\n",
       "  <tbody>\n",
       "    <tr>\n",
       "      <th>0</th>\n",
       "      <td>760</td>\n",
       "      <td>25.0</td>\n",
       "      <td>2009-11-06</td>\n",
       "      <td>False</td>\n",
       "      <td>False</td>\n",
       "      <td>False</td>\n",
       "      <td>False</td>\n",
       "      <td>False</td>\n",
       "      <td>False</td>\n",
       "      <td>True</td>\n",
       "      <td>False</td>\n",
       "      <td>False</td>\n",
       "      <td>False</td>\n",
       "      <td>False</td>\n",
       "    </tr>\n",
       "    <tr>\n",
       "      <th>1</th>\n",
       "      <td>860</td>\n",
       "      <td>50.0</td>\n",
       "      <td>2012-09-28</td>\n",
       "      <td>False</td>\n",
       "      <td>False</td>\n",
       "      <td>False</td>\n",
       "      <td>True</td>\n",
       "      <td>False</td>\n",
       "      <td>False</td>\n",
       "      <td>False</td>\n",
       "      <td>False</td>\n",
       "      <td>False</td>\n",
       "      <td>False</td>\n",
       "      <td>False</td>\n",
       "    </tr>\n",
       "    <tr>\n",
       "      <th>2</th>\n",
       "      <td>1200</td>\n",
       "      <td>100.0</td>\n",
       "      <td>2005-10-25</td>\n",
       "      <td>False</td>\n",
       "      <td>False</td>\n",
       "      <td>False</td>\n",
       "      <td>False</td>\n",
       "      <td>False</td>\n",
       "      <td>False</td>\n",
       "      <td>False</td>\n",
       "      <td>False</td>\n",
       "      <td>False</td>\n",
       "      <td>False</td>\n",
       "      <td>True</td>\n",
       "    </tr>\n",
       "    <tr>\n",
       "      <th>3</th>\n",
       "      <td>1420</td>\n",
       "      <td>50.0</td>\n",
       "      <td>2009-07-09</td>\n",
       "      <td>False</td>\n",
       "      <td>False</td>\n",
       "      <td>False</td>\n",
       "      <td>False</td>\n",
       "      <td>False</td>\n",
       "      <td>False</td>\n",
       "      <td>True</td>\n",
       "      <td>False</td>\n",
       "      <td>False</td>\n",
       "      <td>False</td>\n",
       "      <td>False</td>\n",
       "    </tr>\n",
       "    <tr>\n",
       "      <th>4</th>\n",
       "      <td>1940</td>\n",
       "      <td>70.0</td>\n",
       "      <td>2013-01-25</td>\n",
       "      <td>False</td>\n",
       "      <td>False</td>\n",
       "      <td>True</td>\n",
       "      <td>False</td>\n",
       "      <td>False</td>\n",
       "      <td>False</td>\n",
       "      <td>False</td>\n",
       "      <td>False</td>\n",
       "      <td>False</td>\n",
       "      <td>False</td>\n",
       "      <td>False</td>\n",
       "    </tr>\n",
       "  </tbody>\n",
       "</table>\n",
       "</div>"
      ],
      "text/plain": [
       "   customer_id  amount       date state_1 state_2 state_3 state_4 state_5  \\\n",
       "0          760    25.0 2009-11-06   False   False   False   False   False   \n",
       "1          860    50.0 2012-09-28   False   False   False    True   False   \n",
       "2         1200   100.0 2005-10-25   False   False   False   False   False   \n",
       "3         1420    50.0 2009-07-09   False   False   False   False   False   \n",
       "4         1940    70.0 2013-01-25   False   False    True   False   False   \n",
       "\n",
       "  state_6 state_7 state_8 state_9 state_10 state_11  \n",
       "0   False    True   False   False    False    False  \n",
       "1   False   False   False   False    False    False  \n",
       "2   False   False   False   False    False     True  \n",
       "3   False    True   False   False    False    False  \n",
       "4   False   False   False   False    False    False  "
      ]
     },
     "execution_count": 12,
     "metadata": {},
     "output_type": "execute_result"
    }
   ],
   "source": [
    "original_df['state_1'] = original_df.date.apply(lambda x: start_date.year - x.year <= 0)\n",
    "original_df['state_2'] = original_df.date.apply(lambda x: start_date.year - x.year >= 1 and start_date.year - x.year <2)\n",
    "original_df['state_3'] = original_df.date.apply(lambda x: start_date.year - x.year >= 2 and start_date.year - x.year <3)\n",
    "original_df['state_4'] = original_df.date.apply(lambda x: start_date.year - x.year >= 3 and start_date.year - x.year <4)\n",
    "original_df['state_5'] = original_df.date.apply(lambda x: start_date.year - x.year >= 4 and start_date.year - x.year <5)\n",
    "original_df['state_6'] = original_df.date.apply(lambda x: start_date.year - x.year >= 5 and start_date.year - x.year <6)\n",
    "original_df['state_7'] = original_df.date.apply(lambda x: start_date.year - x.year >= 6 and start_date.year - x.year <7)\n",
    "original_df['state_8'] = original_df.date.apply(lambda x: start_date.year - x.year >= 7 and start_date.year - x.year <8)\n",
    "original_df['state_9'] = original_df.date.apply(lambda x: start_date.year - x.year >= 8 and start_date.year - x.year <9)\n",
    "original_df['state_10'] = original_df.date.apply(lambda x: start_date.year - x.year >= 9 and start_date.year - x.year <10)\n",
    "original_df['state_11'] = original_df.date.apply(lambda x: start_date.year - x.year >= 10 and start_date.year - x.year <11)\n",
    "original_df.head()"
   ]
  },
  {
   "cell_type": "code",
   "execution_count": 13,
   "metadata": {
    "collapsed": false
   },
   "outputs": [
    {
     "data": {
      "text/html": [
       "<div>\n",
       "<table border=\"1\" class=\"dataframe\">\n",
       "  <thead>\n",
       "    <tr style=\"text-align: right;\">\n",
       "      <th></th>\n",
       "      <th>customer_id</th>\n",
       "      <th>state_1</th>\n",
       "      <th>state_2</th>\n",
       "      <th>state_3</th>\n",
       "      <th>state_4</th>\n",
       "      <th>state_5</th>\n",
       "      <th>state_6</th>\n",
       "      <th>state_7</th>\n",
       "      <th>state_8</th>\n",
       "      <th>state_9</th>\n",
       "      <th>state_10</th>\n",
       "      <th>state_11</th>\n",
       "    </tr>\n",
       "  </thead>\n",
       "  <tbody>\n",
       "    <tr>\n",
       "      <th>0</th>\n",
       "      <td>10</td>\n",
       "      <td>0</td>\n",
       "      <td>0</td>\n",
       "      <td>0</td>\n",
       "      <td>0</td>\n",
       "      <td>0</td>\n",
       "      <td>0</td>\n",
       "      <td>0</td>\n",
       "      <td>0</td>\n",
       "      <td>0</td>\n",
       "      <td>0</td>\n",
       "      <td>1</td>\n",
       "    </tr>\n",
       "    <tr>\n",
       "      <th>1</th>\n",
       "      <td>80</td>\n",
       "      <td>1</td>\n",
       "      <td>1</td>\n",
       "      <td>1</td>\n",
       "      <td>0</td>\n",
       "      <td>1</td>\n",
       "      <td>0</td>\n",
       "      <td>1</td>\n",
       "      <td>0</td>\n",
       "      <td>1</td>\n",
       "      <td>0</td>\n",
       "      <td>1</td>\n",
       "    </tr>\n",
       "    <tr>\n",
       "      <th>2</th>\n",
       "      <td>90</td>\n",
       "      <td>0</td>\n",
       "      <td>0</td>\n",
       "      <td>1</td>\n",
       "      <td>1</td>\n",
       "      <td>1</td>\n",
       "      <td>1</td>\n",
       "      <td>1</td>\n",
       "      <td>1</td>\n",
       "      <td>1</td>\n",
       "      <td>1</td>\n",
       "      <td>1</td>\n",
       "    </tr>\n",
       "    <tr>\n",
       "      <th>3</th>\n",
       "      <td>120</td>\n",
       "      <td>0</td>\n",
       "      <td>0</td>\n",
       "      <td>0</td>\n",
       "      <td>1</td>\n",
       "      <td>0</td>\n",
       "      <td>0</td>\n",
       "      <td>0</td>\n",
       "      <td>0</td>\n",
       "      <td>0</td>\n",
       "      <td>0</td>\n",
       "      <td>0</td>\n",
       "    </tr>\n",
       "    <tr>\n",
       "      <th>4</th>\n",
       "      <td>130</td>\n",
       "      <td>0</td>\n",
       "      <td>0</td>\n",
       "      <td>0</td>\n",
       "      <td>0</td>\n",
       "      <td>0</td>\n",
       "      <td>0</td>\n",
       "      <td>0</td>\n",
       "      <td>0</td>\n",
       "      <td>1</td>\n",
       "      <td>0</td>\n",
       "      <td>1</td>\n",
       "    </tr>\n",
       "  </tbody>\n",
       "</table>\n",
       "</div>"
      ],
      "text/plain": [
       "   customer_id  state_1  state_2  state_3  state_4  state_5  state_6  state_7  \\\n",
       "0           10        0        0        0        0        0        0        0   \n",
       "1           80        1        1        1        0        1        0        1   \n",
       "2           90        0        0        1        1        1        1        1   \n",
       "3          120        0        0        0        1        0        0        0   \n",
       "4          130        0        0        0        0        0        0        0   \n",
       "\n",
       "   state_8  state_9  state_10  state_11  \n",
       "0        0        0         0         1  \n",
       "1        0        1         0         1  \n",
       "2        1        1         1         1  \n",
       "3        0        0         0         0  \n",
       "4        0        1         0         1  "
      ]
     },
     "execution_count": 13,
     "metadata": {},
     "output_type": "execute_result"
    }
   ],
   "source": [
    "recency_df = original_df.groupby(['customer_id']).max().reset_index()\n",
    "recency_df = recency_df.drop(['amount', 'date'], axis=1)\n",
    "recency_df = recency_df.apply(lambda x:x.astype(int))\n",
    "recency_df.head()"
   ]
  },
  {
   "cell_type": "code",
   "execution_count": 35,
   "metadata": {
    "collapsed": false
   },
   "outputs": [
    {
     "data": {
      "text/html": [
       "<div>\n",
       "<table border=\"1\" class=\"dataframe\">\n",
       "  <thead>\n",
       "    <tr style=\"text-align: right;\">\n",
       "      <th></th>\n",
       "      <th>customer_id</th>\n",
       "      <th>date</th>\n",
       "      <th>last_purchase</th>\n",
       "    </tr>\n",
       "  </thead>\n",
       "  <tbody>\n",
       "    <tr>\n",
       "      <th>0</th>\n",
       "      <td>10</td>\n",
       "      <td>2005-07-08</td>\n",
       "      <td>10</td>\n",
       "    </tr>\n",
       "    <tr>\n",
       "      <th>1</th>\n",
       "      <td>80</td>\n",
       "      <td>2015-01-23</td>\n",
       "      <td>0</td>\n",
       "    </tr>\n",
       "    <tr>\n",
       "      <th>2</th>\n",
       "      <td>90</td>\n",
       "      <td>2013-12-04</td>\n",
       "      <td>2</td>\n",
       "    </tr>\n",
       "    <tr>\n",
       "      <th>3</th>\n",
       "      <td>120</td>\n",
       "      <td>2012-03-01</td>\n",
       "      <td>3</td>\n",
       "    </tr>\n",
       "    <tr>\n",
       "      <th>4</th>\n",
       "      <td>130</td>\n",
       "      <td>2007-11-14</td>\n",
       "      <td>8</td>\n",
       "    </tr>\n",
       "  </tbody>\n",
       "</table>\n",
       "</div>"
      ],
      "text/plain": [
       "   customer_id       date  last_purchase\n",
       "0           10 2005-07-08             10\n",
       "1           80 2015-01-23              0\n",
       "2           90 2013-12-04              2\n",
       "3          120 2012-03-01              3\n",
       "4          130 2007-11-14              8"
      ]
     },
     "execution_count": 35,
     "metadata": {},
     "output_type": "execute_result"
    }
   ],
   "source": [
    "lastpurchase_df = original_df.groupby(['customer_id']).date.max().reset_index()\n",
    "lastpurchase_df['last_purchase'] = start_date.year - pd.DatetimeIndex(pd.to_datetime(lastpurchase_df['date'])).year \n",
    "lastpurchase_df.drop('date', axis=1)\n",
    "lastpurchase_df.head()"
   ]
  },
  {
   "cell_type": "code",
   "execution_count": 15,
   "metadata": {
    "collapsed": false
   },
   "outputs": [
    {
     "data": {
      "text/html": [
       "<div>\n",
       "<table border=\"1\" class=\"dataframe\">\n",
       "  <thead>\n",
       "    <tr style=\"text-align: right;\">\n",
       "      <th></th>\n",
       "      <th>customer_id</th>\n",
       "      <th>state_1</th>\n",
       "      <th>state_2</th>\n",
       "      <th>state_3</th>\n",
       "      <th>state_4</th>\n",
       "      <th>state_5</th>\n",
       "      <th>state_6</th>\n",
       "      <th>state_7</th>\n",
       "      <th>state_8</th>\n",
       "      <th>state_9</th>\n",
       "      <th>state_10</th>\n",
       "      <th>state_11</th>\n",
       "      <th>last_purchase</th>\n",
       "      <th>number_of_purchases</th>\n",
       "      <th>average_amount</th>\n",
       "    </tr>\n",
       "  </thead>\n",
       "  <tbody>\n",
       "    <tr>\n",
       "      <th>0</th>\n",
       "      <td>10</td>\n",
       "      <td>0</td>\n",
       "      <td>0</td>\n",
       "      <td>0</td>\n",
       "      <td>0</td>\n",
       "      <td>0</td>\n",
       "      <td>0</td>\n",
       "      <td>0</td>\n",
       "      <td>0</td>\n",
       "      <td>0</td>\n",
       "      <td>0</td>\n",
       "      <td>1</td>\n",
       "      <td>10</td>\n",
       "      <td>1</td>\n",
       "      <td>30.000000</td>\n",
       "    </tr>\n",
       "    <tr>\n",
       "      <th>1</th>\n",
       "      <td>80</td>\n",
       "      <td>1</td>\n",
       "      <td>1</td>\n",
       "      <td>1</td>\n",
       "      <td>0</td>\n",
       "      <td>1</td>\n",
       "      <td>0</td>\n",
       "      <td>1</td>\n",
       "      <td>0</td>\n",
       "      <td>1</td>\n",
       "      <td>0</td>\n",
       "      <td>1</td>\n",
       "      <td>0</td>\n",
       "      <td>7</td>\n",
       "      <td>71.428571</td>\n",
       "    </tr>\n",
       "    <tr>\n",
       "      <th>2</th>\n",
       "      <td>90</td>\n",
       "      <td>0</td>\n",
       "      <td>0</td>\n",
       "      <td>1</td>\n",
       "      <td>1</td>\n",
       "      <td>1</td>\n",
       "      <td>1</td>\n",
       "      <td>1</td>\n",
       "      <td>1</td>\n",
       "      <td>1</td>\n",
       "      <td>1</td>\n",
       "      <td>1</td>\n",
       "      <td>2</td>\n",
       "      <td>10</td>\n",
       "      <td>115.800000</td>\n",
       "    </tr>\n",
       "    <tr>\n",
       "      <th>3</th>\n",
       "      <td>120</td>\n",
       "      <td>0</td>\n",
       "      <td>0</td>\n",
       "      <td>0</td>\n",
       "      <td>1</td>\n",
       "      <td>0</td>\n",
       "      <td>0</td>\n",
       "      <td>0</td>\n",
       "      <td>0</td>\n",
       "      <td>0</td>\n",
       "      <td>0</td>\n",
       "      <td>0</td>\n",
       "      <td>3</td>\n",
       "      <td>1</td>\n",
       "      <td>20.000000</td>\n",
       "    </tr>\n",
       "    <tr>\n",
       "      <th>4</th>\n",
       "      <td>130</td>\n",
       "      <td>0</td>\n",
       "      <td>0</td>\n",
       "      <td>0</td>\n",
       "      <td>0</td>\n",
       "      <td>0</td>\n",
       "      <td>0</td>\n",
       "      <td>0</td>\n",
       "      <td>0</td>\n",
       "      <td>1</td>\n",
       "      <td>0</td>\n",
       "      <td>1</td>\n",
       "      <td>8</td>\n",
       "      <td>2</td>\n",
       "      <td>50.000000</td>\n",
       "    </tr>\n",
       "  </tbody>\n",
       "</table>\n",
       "</div>"
      ],
      "text/plain": [
       "   customer_id  state_1  state_2  state_3  state_4  state_5  state_6  state_7  \\\n",
       "0           10        0        0        0        0        0        0        0   \n",
       "1           80        1        1        1        0        1        0        1   \n",
       "2           90        0        0        1        1        1        1        1   \n",
       "3          120        0        0        0        1        0        0        0   \n",
       "4          130        0        0        0        0        0        0        0   \n",
       "\n",
       "   state_8  state_9  state_10  state_11  last_purchase  number_of_purchases  \\\n",
       "0        0        0         0         1             10                    1   \n",
       "1        0        1         0         1              0                    7   \n",
       "2        1        1         1         1              2                   10   \n",
       "3        0        0         0         0              3                    1   \n",
       "4        0        1         0         1              8                    2   \n",
       "\n",
       "   average_amount  \n",
       "0       30.000000  \n",
       "1       71.428571  \n",
       "2      115.800000  \n",
       "3       20.000000  \n",
       "4       50.000000  "
      ]
     },
     "execution_count": 15,
     "metadata": {},
     "output_type": "execute_result"
    }
   ],
   "source": [
    "rfm_customer = pd.concat([recency_df, lastpurchase_df.last_purchase, freq_df.number_of_purchases, monetary_df.average_amount],axis=1)\n",
    "rfm_customer.head()"
   ]
  },
  {
   "cell_type": "markdown",
   "metadata": {},
   "source": [
    "### Next, break customers into segments using RFM metrics"
   ]
  },
  {
   "cell_type": "markdown",
   "metadata": {},
   "source": [
    "#### Frequency"
   ]
  },
  {
   "cell_type": "code",
   "execution_count": 16,
   "metadata": {
    "collapsed": false
   },
   "outputs": [
    {
     "data": {
      "text/html": [
       "<div>\n",
       "<table border=\"1\" class=\"dataframe\">\n",
       "  <thead>\n",
       "    <tr style=\"text-align: right;\">\n",
       "      <th></th>\n",
       "      <th>number_of_purchases</th>\n",
       "      <th>num_customers</th>\n",
       "    </tr>\n",
       "  </thead>\n",
       "  <tbody>\n",
       "    <tr>\n",
       "      <th>0</th>\n",
       "      <td>1</td>\n",
       "      <td>9048</td>\n",
       "    </tr>\n",
       "    <tr>\n",
       "      <th>1</th>\n",
       "      <td>2</td>\n",
       "      <td>3245</td>\n",
       "    </tr>\n",
       "    <tr>\n",
       "      <th>2</th>\n",
       "      <td>3</td>\n",
       "      <td>1796</td>\n",
       "    </tr>\n",
       "    <tr>\n",
       "      <th>3</th>\n",
       "      <td>4</td>\n",
       "      <td>1080</td>\n",
       "    </tr>\n",
       "    <tr>\n",
       "      <th>4</th>\n",
       "      <td>5</td>\n",
       "      <td>729</td>\n",
       "    </tr>\n",
       "  </tbody>\n",
       "</table>\n",
       "</div>"
      ],
      "text/plain": [
       "   number_of_purchases  num_customers\n",
       "0                    1           9048\n",
       "1                    2           3245\n",
       "2                    3           1796\n",
       "3                    4           1080\n",
       "4                    5            729"
      ]
     },
     "execution_count": 16,
     "metadata": {},
     "output_type": "execute_result"
    }
   ],
   "source": [
    "freqm_df = original_df.groupby('customer_id').count()['amount'].reset_index()\n",
    "freqm_df = freqm_df.groupby('amount').count()['customer_id'].reset_index()\n",
    "freqm_df.columns = ['number_of_purchases', 'num_customers']\n",
    "freqm_df.sort_values('num_customers', ascending=False).head()"
   ]
  },
  {
   "cell_type": "markdown",
   "metadata": {},
   "source": [
    "##### Most popular total number of purchases is 1. So, frequency segmentation is <= 1 and >1"
   ]
  },
  {
   "cell_type": "code",
   "execution_count": 17,
   "metadata": {
    "collapsed": false
   },
   "outputs": [
    {
     "data": {
      "text/plain": [
       "<matplotlib.axes._subplots.AxesSubplot at 0x10e0b6e10>"
      ]
     },
     "execution_count": 17,
     "metadata": {},
     "output_type": "execute_result"
    },
    {
     "data": {
      "image/png": "[encoded data removed]",
      "text/plain": [
       "<matplotlib.figure.Figure at 0x1188d1438>"
      ]
     },
     "metadata": {},
     "output_type": "display_data"
    }
   ],
   "source": [
    "freqm_df.number_of_purchases.plot(kind=\"kde\")"
   ]
  },
  {
   "cell_type": "code",
   "execution_count": 18,
   "metadata": {
    "collapsed": false
   },
   "outputs": [
    {
     "data": {
      "text/plain": [
       "<matplotlib.axes._subplots.AxesSubplot at 0x118b67be0>"
      ]
     },
     "execution_count": 18,
     "metadata": {},
     "output_type": "execute_result"
    },
    {
     "data": {
      "image/png": "[encoded data removed]",
      "text/plain": [
       "<matplotlib.figure.Figure at 0x118c10ba8>"
      ]
     },
     "metadata": {},
     "output_type": "display_data"
    }
   ],
   "source": [
    "plt.figure(figsize=(23,7))\n",
    "total = sns.barplot(x=freqm_df.number_of_purchases,y=freqm_df.num_customers)\n",
    "for item in total.get_xticklabels():\n",
    "    item.set_rotation(90)\n",
    "\n",
    "total"
   ]
  },
  {
   "cell_type": "markdown",
   "metadata": {},
   "source": [
    "#### Monetary"
   ]
  },
  {
   "cell_type": "code",
   "execution_count": 19,
   "metadata": {
    "collapsed": false
   },
   "outputs": [
    {
     "data": {
      "text/html": [
       "<div>\n",
       "<table border=\"1\" class=\"dataframe\">\n",
       "  <thead>\n",
       "    <tr style=\"text-align: right;\">\n",
       "      <th></th>\n",
       "      <th>amount</th>\n",
       "      <th>num_customers</th>\n",
       "    </tr>\n",
       "  </thead>\n",
       "  <tbody>\n",
       "    <tr>\n",
       "      <th>38</th>\n",
       "      <td>30.0</td>\n",
       "      <td>13378</td>\n",
       "    </tr>\n",
       "    <tr>\n",
       "      <th>65</th>\n",
       "      <td>50.0</td>\n",
       "      <td>6651</td>\n",
       "    </tr>\n",
       "    <tr>\n",
       "      <th>23</th>\n",
       "      <td>20.0</td>\n",
       "      <td>6206</td>\n",
       "    </tr>\n",
       "    <tr>\n",
       "      <th>95</th>\n",
       "      <td>100.0</td>\n",
       "      <td>3948</td>\n",
       "    </tr>\n",
       "    <tr>\n",
       "      <th>54</th>\n",
       "      <td>40.0</td>\n",
       "      <td>3372</td>\n",
       "    </tr>\n",
       "  </tbody>\n",
       "</table>\n",
       "</div>"
      ],
      "text/plain": [
       "    amount  num_customers\n",
       "38    30.0          13378\n",
       "65    50.0           6651\n",
       "23    20.0           6206\n",
       "95   100.0           3948\n",
       "54    40.0           3372"
      ]
     },
     "execution_count": 19,
     "metadata": {},
     "output_type": "execute_result"
    }
   ],
   "source": [
    "monetarym_df = original_df.groupby('amount').count()['customer_id'].reset_index()\n",
    "monetarym_df.columns = ['amount', 'num_customers']\n",
    "monetarym_df.sort_values('num_customers', ascending=False).head()"
   ]
  },
  {
   "cell_type": "markdown",
   "metadata": {},
   "source": [
    "##### Most popular amount state is 30. So, monetary segmentation is <= 30 and >30"
   ]
  },
  {
   "cell_type": "code",
   "execution_count": 20,
   "metadata": {
    "collapsed": false
   },
   "outputs": [
    {
     "data": {
      "text/plain": [
       "<matplotlib.axes._subplots.AxesSubplot at 0x11935cc50>"
      ]
     },
     "execution_count": 20,
     "metadata": {},
     "output_type": "execute_result"
    },
    {
     "data": {
      "image/png": "[encoded data removed]",
      "text/plain": [
       "<matplotlib.figure.Figure at 0x118c019b0>"
      ]
     },
     "metadata": {},
     "output_type": "display_data"
    }
   ],
   "source": [
    "monetarym_df.amount.plot(kind=\"kde\")"
   ]
  },
  {
   "cell_type": "code",
   "execution_count": 21,
   "metadata": {
    "collapsed": false
   },
   "outputs": [
    {
     "data": {
      "text/plain": [
       "<matplotlib.axes._subplots.AxesSubplot at 0x119248e48>"
      ]
     },
     "execution_count": 21,
     "metadata": {},
     "output_type": "execute_result"
    },
    {
     "data": {
      "image/png": "[encoded data removed]",
      "text/plain": [
       "<matplotlib.figure.Figure at 0x11922ff98>"
      ]
     },
     "metadata": {},
     "output_type": "display_data"
    }
   ],
   "source": [
    "plt.figure(figsize=(23,7))\n",
    "total = sns.barplot(x=monetarym_df.amount[monetarym_df.amount<120],y=monetarym_df.num_customers)\n",
    "for item in total.get_xticklabels():\n",
    "    item.set_rotation(90)\n",
    "\n",
    "total"
   ]
  },
  {
   "cell_type": "markdown",
   "metadata": {},
   "source": [
    "#### Recency"
   ]
  },
  {
   "cell_type": "code",
   "execution_count": 22,
   "metadata": {
    "collapsed": false
   },
   "outputs": [
    {
     "data": {
      "text/html": [
       "<div>\n",
       "<table border=\"1\" class=\"dataframe\">\n",
       "  <thead>\n",
       "    <tr style=\"text-align: right;\">\n",
       "      <th></th>\n",
       "      <th>recency_state</th>\n",
       "      <th>num_customers</th>\n",
       "    </tr>\n",
       "  </thead>\n",
       "  <tbody>\n",
       "    <tr>\n",
       "      <th>0</th>\n",
       "      <td>1</td>\n",
       "      <td>5398</td>\n",
       "    </tr>\n",
       "    <tr>\n",
       "      <th>1</th>\n",
       "      <td>2</td>\n",
       "      <td>1958</td>\n",
       "    </tr>\n",
       "    <tr>\n",
       "      <th>3</th>\n",
       "      <td>4</td>\n",
       "      <td>1931</td>\n",
       "    </tr>\n",
       "    <tr>\n",
       "      <th>2</th>\n",
       "      <td>3</td>\n",
       "      <td>1903</td>\n",
       "    </tr>\n",
       "    <tr>\n",
       "      <th>5</th>\n",
       "      <td>6</td>\n",
       "      <td>1461</td>\n",
       "    </tr>\n",
       "  </tbody>\n",
       "</table>\n",
       "</div>"
      ],
      "text/plain": [
       "   recency_state  num_customers\n",
       "0              1           5398\n",
       "1              2           1958\n",
       "3              4           1931\n",
       "2              3           1903\n",
       "5              6           1461"
      ]
     },
     "execution_count": 22,
     "metadata": {},
     "output_type": "execute_result"
    }
   ],
   "source": [
    "recencym_df = original_df.groupby('customer_id').date.max().reset_index()\n",
    "recencym_df['year'] = pd.DatetimeIndex(pd.to_datetime(recencym_df['date'])).year ## add in year\n",
    "recencym_df['recency_state'] = recencym_df.year.apply(lambda x: start_date.year - x+1)\n",
    "recencym_df = recencym_df.groupby('recency_state').count()['customer_id'].reset_index()\n",
    "recencym_df.columns = ['recency_state', 'num_customers']\n",
    "recencym_df.sort_values('num_customers', ascending=False).head()"
   ]
  },
  {
   "cell_type": "markdown",
   "metadata": {},
   "source": [
    "##### Most popular recency state is 1.  But, we choose  recency segmentation groups as 1-2 yrs, 2-4 years, 4-6 yrs and rest churned"
   ]
  },
  {
   "cell_type": "code",
   "execution_count": 23,
   "metadata": {
    "collapsed": false
   },
   "outputs": [
    {
     "data": {
      "text/plain": [
       "<matplotlib.axes._subplots.AxesSubplot at 0x11a0e9c88>"
      ]
     },
     "execution_count": 23,
     "metadata": {},
     "output_type": "execute_result"
    },
    {
     "data": {
      "image/png": "[encoded data removed]",
      "text/plain": [
       "<matplotlib.figure.Figure at 0x118c53240>"
      ]
     },
     "metadata": {},
     "output_type": "display_data"
    }
   ],
   "source": [
    "recencym_df.recency_state.plot(kind=\"kde\")"
   ]
  },
  {
   "cell_type": "code",
   "execution_count": 24,
   "metadata": {
    "collapsed": false
   },
   "outputs": [
    {
     "data": {
      "text/plain": [
       "<matplotlib.axes._subplots.AxesSubplot at 0x11db094a8>"
      ]
     },
     "execution_count": 24,
     "metadata": {},
     "output_type": "execute_result"
    },
    {
     "data": {
      "image/png": "[encoded data removed]",
      "text/plain": [
       "<matplotlib.figure.Figure at 0x11db0feb8>"
      ]
     },
     "metadata": {},
     "output_type": "display_data"
    }
   ],
   "source": [
    "plt.figure(figsize=(23,7))\n",
    "total = sns.barplot(x=recencym_df.recency_state,y=recencym_df.num_customers)\n",
    "for item in total.get_xticklabels():\n",
    "    item.set_rotation(90)\n",
    "\n",
    "total"
   ]
  },
  {
   "cell_type": "markdown",
   "metadata": {
    "deletable": true,
    "editable": true
   },
   "source": [
    "---\n",
    "# Transition Matrix\n",
    "- Start with recency\n",
    "- Use the states from the RFM segmentation , 1-<2 yrs, 2-<4 years, 4-<6 yrs"
   ]
  },
  {
   "cell_type": "code",
   "execution_count": 37,
   "metadata": {
    "collapsed": false
   },
   "outputs": [
    {
     "data": {
      "text/plain": [
       "18417"
      ]
     },
     "execution_count": 37,
     "metadata": {},
     "output_type": "execute_result"
    }
   ],
   "source": [
    "total_customers = recency_df.customer_id.count()\n",
    "total_customers"
   ]
  },
  {
   "cell_type": "code",
   "execution_count": 39,
   "metadata": {
    "collapsed": false
   },
   "outputs": [
    {
     "data": {
      "text/html": [
       "<div>\n",
       "<table border=\"1\" class=\"dataframe\">\n",
       "  <thead>\n",
       "    <tr style=\"text-align: right;\">\n",
       "      <th></th>\n",
       "      <th>recency_state</th>\n",
       "      <th>num_customers</th>\n",
       "      <th>probability</th>\n",
       "    </tr>\n",
       "  </thead>\n",
       "  <tbody>\n",
       "    <tr>\n",
       "      <th>0</th>\n",
       "      <td>1</td>\n",
       "      <td>5398</td>\n",
       "      <td>0.293099</td>\n",
       "    </tr>\n",
       "    <tr>\n",
       "      <th>1</th>\n",
       "      <td>2</td>\n",
       "      <td>1958</td>\n",
       "      <td>0.106315</td>\n",
       "    </tr>\n",
       "    <tr>\n",
       "      <th>2</th>\n",
       "      <td>3</td>\n",
       "      <td>1903</td>\n",
       "      <td>0.103328</td>\n",
       "    </tr>\n",
       "    <tr>\n",
       "      <th>3</th>\n",
       "      <td>4</td>\n",
       "      <td>1931</td>\n",
       "      <td>0.104849</td>\n",
       "    </tr>\n",
       "    <tr>\n",
       "      <th>4</th>\n",
       "      <td>5</td>\n",
       "      <td>1286</td>\n",
       "      <td>0.069827</td>\n",
       "    </tr>\n",
       "    <tr>\n",
       "      <th>5</th>\n",
       "      <td>6</td>\n",
       "      <td>1461</td>\n",
       "      <td>0.079329</td>\n",
       "    </tr>\n",
       "    <tr>\n",
       "      <th>6</th>\n",
       "      <td>7</td>\n",
       "      <td>1325</td>\n",
       "      <td>0.071944</td>\n",
       "    </tr>\n",
       "    <tr>\n",
       "      <th>7</th>\n",
       "      <td>8</td>\n",
       "      <td>1166</td>\n",
       "      <td>0.063311</td>\n",
       "    </tr>\n",
       "    <tr>\n",
       "      <th>8</th>\n",
       "      <td>9</td>\n",
       "      <td>1291</td>\n",
       "      <td>0.070098</td>\n",
       "    </tr>\n",
       "    <tr>\n",
       "      <th>9</th>\n",
       "      <td>10</td>\n",
       "      <td>459</td>\n",
       "      <td>0.024923</td>\n",
       "    </tr>\n",
       "    <tr>\n",
       "      <th>10</th>\n",
       "      <td>11</td>\n",
       "      <td>239</td>\n",
       "      <td>0.012977</td>\n",
       "    </tr>\n",
       "  </tbody>\n",
       "</table>\n",
       "</div>"
      ],
      "text/plain": [
       "    recency_state  num_customers  probability\n",
       "0               1           5398     0.293099\n",
       "1               2           1958     0.106315\n",
       "2               3           1903     0.103328\n",
       "3               4           1931     0.104849\n",
       "4               5           1286     0.069827\n",
       "5               6           1461     0.079329\n",
       "6               7           1325     0.071944\n",
       "7               8           1166     0.063311\n",
       "8               9           1291     0.070098\n",
       "9              10            459     0.024923\n",
       "10             11            239     0.012977"
      ]
     },
     "execution_count": 39,
     "metadata": {},
     "output_type": "execute_result"
    }
   ],
   "source": [
    "recencym_df['probability'] = recencym_df['num_customers'] / total_customers\n",
    "recencym_df"
   ]
  },
  {
   "cell_type": "code",
   "execution_count": 27,
   "metadata": {
    "collapsed": false
   },
   "outputs": [
    {
     "data": {
      "text/plain": [
       "['state_1',\n",
       " 'state_2',\n",
       " 'state_3',\n",
       " 'state_4',\n",
       " 'state_5',\n",
       " 'state_6',\n",
       " 'state_7',\n",
       " 'state_8',\n",
       " 'state_9',\n",
       " 'state_10',\n",
       " 'state_11',\n",
       " 'state_12']"
      ]
     },
     "execution_count": 27,
     "metadata": {},
     "output_type": "execute_result"
    }
   ],
   "source": [
    "states = [\"state_{}\".format(i+1) for i in range(12)]\n",
    "states"
   ]
  },
  {
   "cell_type": "code",
   "execution_count": 28,
   "metadata": {
    "collapsed": false
   },
   "outputs": [],
   "source": [
    "trans_matrix = pd.DataFrame(0 ,index=states,columns=states)"
   ]
  },
  {
   "cell_type": "code",
   "execution_count": 29,
   "metadata": {
    "collapsed": false
   },
   "outputs": [
    {
     "data": {
      "text/plain": [
       "[0.29309876744312319,\n",
       " 0.10631481783135147,\n",
       " 0.10332844654395396,\n",
       " 0.10484878101753814,\n",
       " 0.06982679046533094,\n",
       " 0.079328880925232118,\n",
       " 0.071944399196394629,\n",
       " 0.063311071292827273,\n",
       " 0.070098278764185257,\n",
       " 0.024922625834826517,\n",
       " 0.012977140685236466,\n",
       " 0]"
      ]
     },
     "execution_count": 29,
     "metadata": {},
     "output_type": "execute_result"
    }
   ],
   "source": [
    "state_probs = list(recencym_df.probability)\n",
    "state_probs.append(0)\n",
    "state_probs"
   ]
  },
  {
   "cell_type": "markdown",
   "metadata": {},
   "source": [
    "#### One-time Transition Matrix based upon Recency"
   ]
  },
  {
   "cell_type": "code",
   "execution_count": 30,
   "metadata": {
    "collapsed": false
   },
   "outputs": [
    {
     "data": {
      "text/html": [
       "<div>\n",
       "<table border=\"1\" class=\"dataframe\">\n",
       "  <thead>\n",
       "    <tr style=\"text-align: right;\">\n",
       "      <th></th>\n",
       "      <th>state_1</th>\n",
       "      <th>state_2</th>\n",
       "      <th>state_3</th>\n",
       "      <th>state_4</th>\n",
       "      <th>state_5</th>\n",
       "      <th>state_6</th>\n",
       "      <th>state_7</th>\n",
       "      <th>state_8</th>\n",
       "      <th>state_9</th>\n",
       "      <th>state_10</th>\n",
       "      <th>state_11</th>\n",
       "      <th>state_12</th>\n",
       "      <th>state_13</th>\n",
       "    </tr>\n",
       "  </thead>\n",
       "  <tbody>\n",
       "    <tr>\n",
       "      <th>state_1</th>\n",
       "      <td>0.293099</td>\n",
       "      <td>0.706901</td>\n",
       "      <td>0.000000</td>\n",
       "      <td>0.000000</td>\n",
       "      <td>0.000000</td>\n",
       "      <td>0.000000</td>\n",
       "      <td>0.000000</td>\n",
       "      <td>0.000000</td>\n",
       "      <td>0.000000</td>\n",
       "      <td>0.000000</td>\n",
       "      <td>0.000000</td>\n",
       "      <td>0.000000</td>\n",
       "      <td>0</td>\n",
       "    </tr>\n",
       "    <tr>\n",
       "      <th>state_2</th>\n",
       "      <td>0.106315</td>\n",
       "      <td>0.000000</td>\n",
       "      <td>0.893685</td>\n",
       "      <td>0.000000</td>\n",
       "      <td>0.000000</td>\n",
       "      <td>0.000000</td>\n",
       "      <td>0.000000</td>\n",
       "      <td>0.000000</td>\n",
       "      <td>0.000000</td>\n",
       "      <td>0.000000</td>\n",
       "      <td>0.000000</td>\n",
       "      <td>0.000000</td>\n",
       "      <td>0</td>\n",
       "    </tr>\n",
       "    <tr>\n",
       "      <th>state_3</th>\n",
       "      <td>0.103328</td>\n",
       "      <td>0.000000</td>\n",
       "      <td>0.000000</td>\n",
       "      <td>0.896672</td>\n",
       "      <td>0.000000</td>\n",
       "      <td>0.000000</td>\n",
       "      <td>0.000000</td>\n",
       "      <td>0.000000</td>\n",
       "      <td>0.000000</td>\n",
       "      <td>0.000000</td>\n",
       "      <td>0.000000</td>\n",
       "      <td>0.000000</td>\n",
       "      <td>0</td>\n",
       "    </tr>\n",
       "    <tr>\n",
       "      <th>state_4</th>\n",
       "      <td>0.104849</td>\n",
       "      <td>0.000000</td>\n",
       "      <td>0.000000</td>\n",
       "      <td>0.000000</td>\n",
       "      <td>0.895151</td>\n",
       "      <td>0.000000</td>\n",
       "      <td>0.000000</td>\n",
       "      <td>0.000000</td>\n",
       "      <td>0.000000</td>\n",
       "      <td>0.000000</td>\n",
       "      <td>0.000000</td>\n",
       "      <td>0.000000</td>\n",
       "      <td>0</td>\n",
       "    </tr>\n",
       "    <tr>\n",
       "      <th>state_5</th>\n",
       "      <td>0.069827</td>\n",
       "      <td>0.000000</td>\n",
       "      <td>0.000000</td>\n",
       "      <td>0.000000</td>\n",
       "      <td>0.000000</td>\n",
       "      <td>0.930173</td>\n",
       "      <td>0.000000</td>\n",
       "      <td>0.000000</td>\n",
       "      <td>0.000000</td>\n",
       "      <td>0.000000</td>\n",
       "      <td>0.000000</td>\n",
       "      <td>0.000000</td>\n",
       "      <td>0</td>\n",
       "    </tr>\n",
       "    <tr>\n",
       "      <th>state_6</th>\n",
       "      <td>0.079329</td>\n",
       "      <td>0.000000</td>\n",
       "      <td>0.000000</td>\n",
       "      <td>0.000000</td>\n",
       "      <td>0.000000</td>\n",
       "      <td>0.000000</td>\n",
       "      <td>0.920671</td>\n",
       "      <td>0.000000</td>\n",
       "      <td>0.000000</td>\n",
       "      <td>0.000000</td>\n",
       "      <td>0.000000</td>\n",
       "      <td>0.000000</td>\n",
       "      <td>0</td>\n",
       "    </tr>\n",
       "    <tr>\n",
       "      <th>state_7</th>\n",
       "      <td>0.071944</td>\n",
       "      <td>0.000000</td>\n",
       "      <td>0.000000</td>\n",
       "      <td>0.000000</td>\n",
       "      <td>0.000000</td>\n",
       "      <td>0.000000</td>\n",
       "      <td>0.000000</td>\n",
       "      <td>0.928056</td>\n",
       "      <td>0.000000</td>\n",
       "      <td>0.000000</td>\n",
       "      <td>0.000000</td>\n",
       "      <td>0.000000</td>\n",
       "      <td>0</td>\n",
       "    </tr>\n",
       "    <tr>\n",
       "      <th>state_8</th>\n",
       "      <td>0.063311</td>\n",
       "      <td>0.000000</td>\n",
       "      <td>0.000000</td>\n",
       "      <td>0.000000</td>\n",
       "      <td>0.000000</td>\n",
       "      <td>0.000000</td>\n",
       "      <td>0.000000</td>\n",
       "      <td>0.000000</td>\n",
       "      <td>0.936689</td>\n",
       "      <td>0.000000</td>\n",
       "      <td>0.000000</td>\n",
       "      <td>0.000000</td>\n",
       "      <td>0</td>\n",
       "    </tr>\n",
       "    <tr>\n",
       "      <th>state_9</th>\n",
       "      <td>0.070098</td>\n",
       "      <td>0.000000</td>\n",
       "      <td>0.000000</td>\n",
       "      <td>0.000000</td>\n",
       "      <td>0.000000</td>\n",
       "      <td>0.000000</td>\n",
       "      <td>0.000000</td>\n",
       "      <td>0.000000</td>\n",
       "      <td>0.000000</td>\n",
       "      <td>0.929902</td>\n",
       "      <td>0.000000</td>\n",
       "      <td>0.000000</td>\n",
       "      <td>0</td>\n",
       "    </tr>\n",
       "    <tr>\n",
       "      <th>state_10</th>\n",
       "      <td>0.024923</td>\n",
       "      <td>0.000000</td>\n",
       "      <td>0.000000</td>\n",
       "      <td>0.000000</td>\n",
       "      <td>0.000000</td>\n",
       "      <td>0.000000</td>\n",
       "      <td>0.000000</td>\n",
       "      <td>0.000000</td>\n",
       "      <td>0.000000</td>\n",
       "      <td>0.000000</td>\n",
       "      <td>0.975077</td>\n",
       "      <td>0.000000</td>\n",
       "      <td>0</td>\n",
       "    </tr>\n",
       "    <tr>\n",
       "      <th>state_11</th>\n",
       "      <td>0.012977</td>\n",
       "      <td>0.000000</td>\n",
       "      <td>0.000000</td>\n",
       "      <td>0.000000</td>\n",
       "      <td>0.000000</td>\n",
       "      <td>0.000000</td>\n",
       "      <td>0.000000</td>\n",
       "      <td>0.000000</td>\n",
       "      <td>0.000000</td>\n",
       "      <td>0.000000</td>\n",
       "      <td>0.000000</td>\n",
       "      <td>0.987023</td>\n",
       "      <td>0</td>\n",
       "    </tr>\n",
       "    <tr>\n",
       "      <th>state_12</th>\n",
       "      <td>0.000000</td>\n",
       "      <td>0.000000</td>\n",
       "      <td>0.000000</td>\n",
       "      <td>0.000000</td>\n",
       "      <td>0.000000</td>\n",
       "      <td>0.000000</td>\n",
       "      <td>0.000000</td>\n",
       "      <td>0.000000</td>\n",
       "      <td>0.000000</td>\n",
       "      <td>0.000000</td>\n",
       "      <td>0.000000</td>\n",
       "      <td>0.000000</td>\n",
       "      <td>1</td>\n",
       "    </tr>\n",
       "  </tbody>\n",
       "</table>\n",
       "</div>"
      ],
      "text/plain": [
       "           state_1   state_2   state_3   state_4   state_5   state_6  \\\n",
       "state_1   0.293099  0.706901  0.000000  0.000000  0.000000  0.000000   \n",
       "state_2   0.106315  0.000000  0.893685  0.000000  0.000000  0.000000   \n",
       "state_3   0.103328  0.000000  0.000000  0.896672  0.000000  0.000000   \n",
       "state_4   0.104849  0.000000  0.000000  0.000000  0.895151  0.000000   \n",
       "state_5   0.069827  0.000000  0.000000  0.000000  0.000000  0.930173   \n",
       "state_6   0.079329  0.000000  0.000000  0.000000  0.000000  0.000000   \n",
       "state_7   0.071944  0.000000  0.000000  0.000000  0.000000  0.000000   \n",
       "state_8   0.063311  0.000000  0.000000  0.000000  0.000000  0.000000   \n",
       "state_9   0.070098  0.000000  0.000000  0.000000  0.000000  0.000000   \n",
       "state_10  0.024923  0.000000  0.000000  0.000000  0.000000  0.000000   \n",
       "state_11  0.012977  0.000000  0.000000  0.000000  0.000000  0.000000   \n",
       "state_12  0.000000  0.000000  0.000000  0.000000  0.000000  0.000000   \n",
       "\n",
       "           state_7   state_8   state_9  state_10  state_11  state_12  state_13  \n",
       "state_1   0.000000  0.000000  0.000000  0.000000  0.000000  0.000000         0  \n",
       "state_2   0.000000  0.000000  0.000000  0.000000  0.000000  0.000000         0  \n",
       "state_3   0.000000  0.000000  0.000000  0.000000  0.000000  0.000000         0  \n",
       "state_4   0.000000  0.000000  0.000000  0.000000  0.000000  0.000000         0  \n",
       "state_5   0.000000  0.000000  0.000000  0.000000  0.000000  0.000000         0  \n",
       "state_6   0.920671  0.000000  0.000000  0.000000  0.000000  0.000000         0  \n",
       "state_7   0.000000  0.928056  0.000000  0.000000  0.000000  0.000000         0  \n",
       "state_8   0.000000  0.000000  0.936689  0.000000  0.000000  0.000000         0  \n",
       "state_9   0.000000  0.000000  0.000000  0.929902  0.000000  0.000000         0  \n",
       "state_10  0.000000  0.000000  0.000000  0.000000  0.975077  0.000000         0  \n",
       "state_11  0.000000  0.000000  0.000000  0.000000  0.000000  0.987023         0  \n",
       "state_12  0.000000  0.000000  0.000000  0.000000  0.000000  0.000000         1  "
      ]
     },
     "execution_count": 30,
     "metadata": {},
     "output_type": "execute_result"
    }
   ],
   "source": [
    "trans_matrix['state_1'] = state_probs\n",
    "trans_matrix['state_2'] = [1-state_probs[0], 0, 0, 0, 0, 0, 0, 0, 0, 0, 0, 0]\n",
    "trans_matrix['state_3'] = [0, 1-state_probs[1], 0, 0, 0, 0, 0, 0, 0, 0, 0, 0]\n",
    "trans_matrix['state_4'] = [0, 0, 1-state_probs[2], 0, 0, 0, 0, 0, 0, 0, 0, 0]\n",
    "trans_matrix['state_5'] = [0, 0, 0, 1-state_probs[3], 0, 0, 0, 0, 0, 0, 0, 0]\n",
    "trans_matrix['state_6'] = [0, 0, 0, 0, 1-state_probs[4],  0, 0, 0, 0, 0, 0, 0]\n",
    "trans_matrix['state_7'] = [0, 0, 0, 0, 0, 1-state_probs[5], 0, 0, 0, 0, 0, 0]\n",
    "trans_matrix['state_8'] = [0, 0, 0, 0, 0, 0, 1-state_probs[6], 0, 0, 0, 0, 0]\n",
    "trans_matrix['state_9'] = [ 0, 0, 0, 0, 0, 0, 0, 1-state_probs[7], 0, 0, 0, 0]\n",
    "trans_matrix['state_10'] = [0, 0, 0, 0, 0, 0, 0, 0, 1-state_probs[8], 0, 0, 0]\n",
    "trans_matrix['state_11'] = [0, 0, 0, 0, 0, 0, 0, 0, 0, 1-state_probs[9], 0, 0]\n",
    "trans_matrix['state_12'] = [0, 0, 0, 0, 0, 0, 0, 0, 0, 0, 1-state_probs[10], 0]\n",
    "trans_matrix['state_13'] = [0, 0, 0, 0, 0, 0, 0, 0, 0, 0, 0, 1]\n",
    "trans_matrix"
   ]
  },
  {
   "cell_type": "code",
   "execution_count": 31,
   "metadata": {
    "collapsed": false,
    "deletable": true,
    "editable": true
   },
   "outputs": [
    {
     "data": {
      "text/plain": [
       "<matplotlib.text.Text at 0x11e0dfa20>"
      ]
     },
     "execution_count": 31,
     "metadata": {},
     "output_type": "execute_result"
    },
    {
     "data": {
      "image/png": "[encoded data removed]",
      "text/plain": [
       "<matplotlib.figure.Figure at 0x11e0c8da0>"
      ]
     },
     "metadata": {},
     "output_type": "display_data"
    }
   ],
   "source": [
    "trans_matrix.state_1.cumsum().plot(kind='bar',colormap='viridis',figsize=(10,5))\n",
    "plt.title('Recency Transition Matrix')\n",
    "plt.ylabel('Cumulative Transition Probability to Recency One')"
   ]
  },
  {
   "cell_type": "markdown",
   "metadata": {
    "deletable": true,
    "editable": true
   },
   "source": [
    "#### Based on this table, let us group together state 1 and 2 (~40% of people), state 3 and 4 (20%), and state 5 and 6 (15%) as our active states"
   ]
  },
  {
   "cell_type": "markdown",
   "metadata": {
    "deletable": true,
    "editable": true
   },
   "source": [
    "---\n",
    "\n",
    "# Next - segment on frequency and monetary value\n",
    "- Monetary value > 30\n",
    "- Frequency >2\n",
    "\n",
    "`state 1: R < 2, F >=2, MV >=30\n",
    "state 2: R <2 , F >=2 , MV <30\n",
    "state 3: R <2 , F <2 , MV <30\n",
    "state 4: R <2 , F <2 , MV >=30`\n",
    "\n",
    "`state 5: R >=2-<4, F >=2, MV >=30\n",
    "state 6: R 2-4, F >=2, MV <30\n",
    "state 7: R 2-4, F<2, MV <30\n",
    "state 8: R 2-4, F<2, MV >=30`\n",
    "\n",
    "`state 9: R >=4-<6, F >=2, MV >=30\n",
    "state 10: R 4-6, F >=2, MV <30\n",
    "state 11: R 4-6, F<2, MV <30\n",
    "state 12: R 4-6, F<2, MV >=30`\n",
    "- Below, is defined as inactive\n",
    "\n",
    "`state 13: R >=6-<8, F >=2, MV >=30\n",
    "state 14: R 6-8, F >=2, MV <30\n",
    "state 15: R 6-8, F<2, MV <30\n",
    "state 16: R 6-8, F<2, MV >=30`\n",
    "\n",
    "`state 17: R >=8-<=10, F >=2, MV >=30\n",
    "state 18: R 8-10, F >=2, MV <30\n",
    "state 19: R 8-10, F<2, MV <30\n",
    "state 20: R 8-10, F<2, MV >=30`\n",
    "\n"
   ]
  },
  {
   "cell_type": "code",
   "execution_count": 32,
   "metadata": {
    "collapsed": false
   },
   "outputs": [
    {
     "data": {
      "text/html": [
       "<div>\n",
       "<table border=\"1\" class=\"dataframe\">\n",
       "  <thead>\n",
       "    <tr style=\"text-align: right;\">\n",
       "      <th></th>\n",
       "      <th>customer_id</th>\n",
       "      <th>state_1</th>\n",
       "      <th>state_2</th>\n",
       "      <th>state_3</th>\n",
       "      <th>state_4</th>\n",
       "      <th>state_5</th>\n",
       "      <th>state_6</th>\n",
       "      <th>state_7</th>\n",
       "      <th>state_8</th>\n",
       "      <th>state_9</th>\n",
       "      <th>state_10</th>\n",
       "      <th>state_11</th>\n",
       "      <th>last_purchase</th>\n",
       "      <th>number_of_purchases</th>\n",
       "      <th>average_amount</th>\n",
       "    </tr>\n",
       "  </thead>\n",
       "  <tbody>\n",
       "    <tr>\n",
       "      <th>0</th>\n",
       "      <td>10</td>\n",
       "      <td>0</td>\n",
       "      <td>0</td>\n",
       "      <td>0</td>\n",
       "      <td>0</td>\n",
       "      <td>0</td>\n",
       "      <td>0</td>\n",
       "      <td>0</td>\n",
       "      <td>0</td>\n",
       "      <td>0</td>\n",
       "      <td>0</td>\n",
       "      <td>1</td>\n",
       "      <td>10</td>\n",
       "      <td>1</td>\n",
       "      <td>30.000000</td>\n",
       "    </tr>\n",
       "    <tr>\n",
       "      <th>1</th>\n",
       "      <td>80</td>\n",
       "      <td>1</td>\n",
       "      <td>1</td>\n",
       "      <td>1</td>\n",
       "      <td>0</td>\n",
       "      <td>1</td>\n",
       "      <td>0</td>\n",
       "      <td>1</td>\n",
       "      <td>0</td>\n",
       "      <td>1</td>\n",
       "      <td>0</td>\n",
       "      <td>1</td>\n",
       "      <td>0</td>\n",
       "      <td>7</td>\n",
       "      <td>71.428571</td>\n",
       "    </tr>\n",
       "    <tr>\n",
       "      <th>2</th>\n",
       "      <td>90</td>\n",
       "      <td>0</td>\n",
       "      <td>0</td>\n",
       "      <td>1</td>\n",
       "      <td>1</td>\n",
       "      <td>1</td>\n",
       "      <td>1</td>\n",
       "      <td>1</td>\n",
       "      <td>1</td>\n",
       "      <td>1</td>\n",
       "      <td>1</td>\n",
       "      <td>1</td>\n",
       "      <td>2</td>\n",
       "      <td>10</td>\n",
       "      <td>115.800000</td>\n",
       "    </tr>\n",
       "    <tr>\n",
       "      <th>3</th>\n",
       "      <td>120</td>\n",
       "      <td>0</td>\n",
       "      <td>0</td>\n",
       "      <td>0</td>\n",
       "      <td>1</td>\n",
       "      <td>0</td>\n",
       "      <td>0</td>\n",
       "      <td>0</td>\n",
       "      <td>0</td>\n",
       "      <td>0</td>\n",
       "      <td>0</td>\n",
       "      <td>0</td>\n",
       "      <td>3</td>\n",
       "      <td>1</td>\n",
       "      <td>20.000000</td>\n",
       "    </tr>\n",
       "    <tr>\n",
       "      <th>4</th>\n",
       "      <td>130</td>\n",
       "      <td>0</td>\n",
       "      <td>0</td>\n",
       "      <td>0</td>\n",
       "      <td>0</td>\n",
       "      <td>0</td>\n",
       "      <td>0</td>\n",
       "      <td>0</td>\n",
       "      <td>0</td>\n",
       "      <td>1</td>\n",
       "      <td>0</td>\n",
       "      <td>1</td>\n",
       "      <td>8</td>\n",
       "      <td>2</td>\n",
       "      <td>50.000000</td>\n",
       "    </tr>\n",
       "  </tbody>\n",
       "</table>\n",
       "</div>"
      ],
      "text/plain": [
       "   customer_id  state_1  state_2  state_3  state_4  state_5  state_6  state_7  \\\n",
       "0           10        0        0        0        0        0        0        0   \n",
       "1           80        1        1        1        0        1        0        1   \n",
       "2           90        0        0        1        1        1        1        1   \n",
       "3          120        0        0        0        1        0        0        0   \n",
       "4          130        0        0        0        0        0        0        0   \n",
       "\n",
       "   state_8  state_9  state_10  state_11  last_purchase  number_of_purchases  \\\n",
       "0        0        0         0         1             10                    1   \n",
       "1        0        1         0         1              0                    7   \n",
       "2        1        1         1         1              2                   10   \n",
       "3        0        0         0         0              3                    1   \n",
       "4        0        1         0         1              8                    2   \n",
       "\n",
       "   average_amount  \n",
       "0       30.000000  \n",
       "1       71.428571  \n",
       "2      115.800000  \n",
       "3       20.000000  \n",
       "4       50.000000  "
      ]
     },
     "execution_count": 32,
     "metadata": {},
     "output_type": "execute_result"
    }
   ],
   "source": [
    "rfm_customer.head()"
   ]
  },
  {
   "cell_type": "code",
   "execution_count": 33,
   "metadata": {
    "collapsed": true
   },
   "outputs": [],
   "source": [
    "rmf_state_1 = rfm_customer[(rfm_customer.last_purchase<2) & (rfm_customer.number_of_purchases>=2) & (rfm_customer.average_amount>=30)]['customer_id'].count()\n",
    "rmf_state_2 = rfm_customer[(rfm_customer.last_purchase<2) & (rfm_customer.number_of_purchases>=2) & (rfm_customer.average_amount<30)]['customer_id'].count()\n",
    "rmf_state_3 = rfm_customer[(rfm_customer.last_purchase<2) & (rfm_customer.number_of_purchases<2) & (rfm_customer.average_amount<30)]['customer_id'].count()\n",
    "rmf_state_4 = rfm_customer[(rfm_customer.last_purchase<2) & (rfm_customer.number_of_purchases<2) & (rfm_customer.average_amount>=30)]['customer_id'].count()\n",
    "rmf_state_5 = rfm_customer[(rfm_customer.last_purchase.isin(range(2,4))) & (rfm_customer.number_of_purchases>=2) & (rfm_customer.average_amount>=30)]['customer_id'].count()\n",
    "rmf_state_6 = rfm_customer[(rfm_customer.last_purchase.isin(range(2,4))) & (rfm_customer.number_of_purchases>=2) & (rfm_customer.average_amount<30)]['customer_id'].count()\n",
    "rmf_state_7 = rfm_customer[(rfm_customer.last_purchase.isin(range(2,4))) & (rfm_customer.number_of_purchases<2) & (rfm_customer.average_amount<30)]['customer_id'].count()\n",
    "rmf_state_8 = rfm_customer[(rfm_customer.last_purchase.isin(range(2,4))) & (rfm_customer.number_of_purchases<2) & (rfm_customer.average_amount>=30)]['customer_id'].count()\n",
    "rmf_state_9 = rfm_customer[(rfm_customer.last_purchase.isin(range(4,6))) & (rfm_customer.number_of_purchases>=2) & (rfm_customer.average_amount>=30)]['customer_id'].count()\n",
    "rmf_state_10 = rfm_customer[(rfm_customer.last_purchase.isin(range(4,6))) & (rfm_customer.number_of_purchases>=2) & (rfm_customer.average_amount<30)]['customer_id'].count()\n",
    "rmf_state_11 = rfm_customer[(rfm_customer.last_purchase.isin(range(4,6))) & (rfm_customer.number_of_purchases<2) & (rfm_customer.average_amount<30)]['customer_id'].count()\n",
    "rmf_state_12 = rfm_customer[(rfm_customer.last_purchase.isin(range(4,6))) & (rfm_customer.number_of_purchases<2) & (rfm_customer.average_amount>=30)]['customer_id'].count()\n",
    "rmf_state_13 = rfm_customer[(rfm_customer.last_purchase.isin(range(6,8))) & (rfm_customer.number_of_purchases>=2) & (rfm_customer.average_amount>=30)]['customer_id'].count()\n",
    "rmf_state_14 = rfm_customer[(rfm_customer.last_purchase.isin(range(6,8))) & (rfm_customer.number_of_purchases>=2) & (rfm_customer.average_amount<30)]['customer_id'].count()\n",
    "rmf_state_15 = rfm_customer[(rfm_customer.last_purchase.isin(range(6,8))) & (rfm_customer.number_of_purchases<2) & (rfm_customer.average_amount<30)]['customer_id'].count()\n",
    "rmf_state_16 = rfm_customer[(rfm_customer.last_purchase.isin(range(6,8))) & (rfm_customer.number_of_purchases<2) & (rfm_customer.average_amount>=30)]['customer_id'].count()\n",
    "rmf_state_17 = rfm_customer[(rfm_customer.last_purchase.isin(range(8,11))) & (rfm_customer.number_of_purchases>=2) & (rfm_customer.average_amount>=30)]['customer_id'].count()\n",
    "rmf_state_18 = rfm_customer[(rfm_customer.last_purchase.isin(range(8,11))) & (rfm_customer.number_of_purchases>=2) & (rfm_customer.average_amount<30)]['customer_id'].count()\n",
    "rmf_state_19 = rfm_customer[(rfm_customer.last_purchase.isin(range(8,11))) & (rfm_customer.number_of_purchases<2) & (rfm_customer.average_amount<30)]['customer_id'].count()\n",
    "rmf_state_20 = rfm_customer[(rfm_customer.last_purchase.isin(range(8,11))) & (rfm_customer.number_of_purchases<2) & (rfm_customer.average_amount>=30)]['customer_id'].count()"
   ]
  },
  {
   "cell_type": "code",
   "execution_count": 40,
   "metadata": {
    "collapsed": false
   },
   "outputs": [
    {
     "name": "stdout",
     "output_type": "stream",
     "text": [
      "[0.2027474615844057, 0.0682521583319759, 0.03409893033610251, 0.09431503502199055, 0.06146495086061791, 0.03312157246022696, 0.0338274420372482, 0.07976326220339904, 0.04235217462127382, 0.03268719118206005, 0.026985936906119345, 0.04713036868110984, 0] 13\n"
     ]
    }
   ],
   "source": [
    "rmf_probs = [float(rmf_state_1*1.0 / total_customers),\n",
    "              float(rmf_state_2*1.0 / total_customers),\n",
    "              float(rmf_state_3*1.0 / total_customers),\n",
    "              float(rmf_state_4*1.0 / total_customers),\n",
    "              float(rmf_state_5*1.0 / total_customers),\n",
    "              float(rmf_state_6*1.0 / total_customers),\n",
    "              float(rmf_state_7*1.0 / total_customers),\n",
    "              float(rmf_state_8*1.0 / total_customers),\n",
    "              float(rmf_state_9*1.0 / total_customers),\n",
    "              float(rmf_state_10*1.0 / total_customers),\n",
    "              float(rmf_state_11*1.0 / total_customers),\n",
    "              float(rmf_state_12*1.0 / total_customers)]\n",
    "rmf_probs\n",
    "rmf_probs.append(0)\n",
    "print(rmf_probs,len(rmf_probs))\n"
   ]
  },
  {
   "cell_type": "code",
   "execution_count": 41,
   "metadata": {
    "collapsed": false
   },
   "outputs": [
    {
     "name": "stdout",
     "output_type": "stream",
     "text": [
      "['state1', 'state2', 'state3', 'state4', 'state5', 'state6', 'state7', 'state8', 'state9', 'state10', 'state11', 'state12', 'inactive']\n"
     ]
    }
   ],
   "source": [
    "transRMFrows = ['state{}'.format(i) for i in range(1, 13)]\n",
    "transRMFrows.append('inactive')\n",
    "print(transRMFrows)"
   ]
  },
  {
   "cell_type": "code",
   "execution_count": 43,
   "metadata": {
    "collapsed": false
   },
   "outputs": [
    {
     "data": {
      "text/html": [
       "<div>\n",
       "<table border=\"1\" class=\"dataframe\">\n",
       "  <thead>\n",
       "    <tr style=\"text-align: right;\">\n",
       "      <th></th>\n",
       "      <th>state1</th>\n",
       "      <th>state2</th>\n",
       "      <th>state3</th>\n",
       "      <th>state4</th>\n",
       "      <th>state5</th>\n",
       "      <th>state6</th>\n",
       "      <th>state7</th>\n",
       "      <th>state8</th>\n",
       "      <th>state9</th>\n",
       "      <th>state10</th>\n",
       "      <th>state11</th>\n",
       "      <th>state12</th>\n",
       "      <th>inactive</th>\n",
       "    </tr>\n",
       "  </thead>\n",
       "  <tbody>\n",
       "    <tr>\n",
       "      <th>state1</th>\n",
       "      <td>0</td>\n",
       "      <td>0</td>\n",
       "      <td>0</td>\n",
       "      <td>0</td>\n",
       "      <td>0</td>\n",
       "      <td>0</td>\n",
       "      <td>0</td>\n",
       "      <td>0</td>\n",
       "      <td>0</td>\n",
       "      <td>0</td>\n",
       "      <td>0</td>\n",
       "      <td>0</td>\n",
       "      <td>0</td>\n",
       "    </tr>\n",
       "    <tr>\n",
       "      <th>state2</th>\n",
       "      <td>0</td>\n",
       "      <td>0</td>\n",
       "      <td>0</td>\n",
       "      <td>0</td>\n",
       "      <td>0</td>\n",
       "      <td>0</td>\n",
       "      <td>0</td>\n",
       "      <td>0</td>\n",
       "      <td>0</td>\n",
       "      <td>0</td>\n",
       "      <td>0</td>\n",
       "      <td>0</td>\n",
       "      <td>0</td>\n",
       "    </tr>\n",
       "    <tr>\n",
       "      <th>state3</th>\n",
       "      <td>0</td>\n",
       "      <td>0</td>\n",
       "      <td>0</td>\n",
       "      <td>0</td>\n",
       "      <td>0</td>\n",
       "      <td>0</td>\n",
       "      <td>0</td>\n",
       "      <td>0</td>\n",
       "      <td>0</td>\n",
       "      <td>0</td>\n",
       "      <td>0</td>\n",
       "      <td>0</td>\n",
       "      <td>0</td>\n",
       "    </tr>\n",
       "    <tr>\n",
       "      <th>state4</th>\n",
       "      <td>0</td>\n",
       "      <td>0</td>\n",
       "      <td>0</td>\n",
       "      <td>0</td>\n",
       "      <td>0</td>\n",
       "      <td>0</td>\n",
       "      <td>0</td>\n",
       "      <td>0</td>\n",
       "      <td>0</td>\n",
       "      <td>0</td>\n",
       "      <td>0</td>\n",
       "      <td>0</td>\n",
       "      <td>0</td>\n",
       "    </tr>\n",
       "    <tr>\n",
       "      <th>state5</th>\n",
       "      <td>0</td>\n",
       "      <td>0</td>\n",
       "      <td>0</td>\n",
       "      <td>0</td>\n",
       "      <td>0</td>\n",
       "      <td>0</td>\n",
       "      <td>0</td>\n",
       "      <td>0</td>\n",
       "      <td>0</td>\n",
       "      <td>0</td>\n",
       "      <td>0</td>\n",
       "      <td>0</td>\n",
       "      <td>0</td>\n",
       "    </tr>\n",
       "    <tr>\n",
       "      <th>state6</th>\n",
       "      <td>0</td>\n",
       "      <td>0</td>\n",
       "      <td>0</td>\n",
       "      <td>0</td>\n",
       "      <td>0</td>\n",
       "      <td>0</td>\n",
       "      <td>0</td>\n",
       "      <td>0</td>\n",
       "      <td>0</td>\n",
       "      <td>0</td>\n",
       "      <td>0</td>\n",
       "      <td>0</td>\n",
       "      <td>0</td>\n",
       "    </tr>\n",
       "    <tr>\n",
       "      <th>state7</th>\n",
       "      <td>0</td>\n",
       "      <td>0</td>\n",
       "      <td>0</td>\n",
       "      <td>0</td>\n",
       "      <td>0</td>\n",
       "      <td>0</td>\n",
       "      <td>0</td>\n",
       "      <td>0</td>\n",
       "      <td>0</td>\n",
       "      <td>0</td>\n",
       "      <td>0</td>\n",
       "      <td>0</td>\n",
       "      <td>0</td>\n",
       "    </tr>\n",
       "    <tr>\n",
       "      <th>state8</th>\n",
       "      <td>0</td>\n",
       "      <td>0</td>\n",
       "      <td>0</td>\n",
       "      <td>0</td>\n",
       "      <td>0</td>\n",
       "      <td>0</td>\n",
       "      <td>0</td>\n",
       "      <td>0</td>\n",
       "      <td>0</td>\n",
       "      <td>0</td>\n",
       "      <td>0</td>\n",
       "      <td>0</td>\n",
       "      <td>0</td>\n",
       "    </tr>\n",
       "    <tr>\n",
       "      <th>state9</th>\n",
       "      <td>0</td>\n",
       "      <td>0</td>\n",
       "      <td>0</td>\n",
       "      <td>0</td>\n",
       "      <td>0</td>\n",
       "      <td>0</td>\n",
       "      <td>0</td>\n",
       "      <td>0</td>\n",
       "      <td>0</td>\n",
       "      <td>0</td>\n",
       "      <td>0</td>\n",
       "      <td>0</td>\n",
       "      <td>0</td>\n",
       "    </tr>\n",
       "    <tr>\n",
       "      <th>state10</th>\n",
       "      <td>0</td>\n",
       "      <td>0</td>\n",
       "      <td>0</td>\n",
       "      <td>0</td>\n",
       "      <td>0</td>\n",
       "      <td>0</td>\n",
       "      <td>0</td>\n",
       "      <td>0</td>\n",
       "      <td>0</td>\n",
       "      <td>0</td>\n",
       "      <td>0</td>\n",
       "      <td>0</td>\n",
       "      <td>0</td>\n",
       "    </tr>\n",
       "    <tr>\n",
       "      <th>state11</th>\n",
       "      <td>0</td>\n",
       "      <td>0</td>\n",
       "      <td>0</td>\n",
       "      <td>0</td>\n",
       "      <td>0</td>\n",
       "      <td>0</td>\n",
       "      <td>0</td>\n",
       "      <td>0</td>\n",
       "      <td>0</td>\n",
       "      <td>0</td>\n",
       "      <td>0</td>\n",
       "      <td>0</td>\n",
       "      <td>0</td>\n",
       "    </tr>\n",
       "    <tr>\n",
       "      <th>state12</th>\n",
       "      <td>0</td>\n",
       "      <td>0</td>\n",
       "      <td>0</td>\n",
       "      <td>0</td>\n",
       "      <td>0</td>\n",
       "      <td>0</td>\n",
       "      <td>0</td>\n",
       "      <td>0</td>\n",
       "      <td>0</td>\n",
       "      <td>0</td>\n",
       "      <td>0</td>\n",
       "      <td>0</td>\n",
       "      <td>0</td>\n",
       "    </tr>\n",
       "    <tr>\n",
       "      <th>inactive</th>\n",
       "      <td>0</td>\n",
       "      <td>0</td>\n",
       "      <td>0</td>\n",
       "      <td>0</td>\n",
       "      <td>0</td>\n",
       "      <td>0</td>\n",
       "      <td>0</td>\n",
       "      <td>0</td>\n",
       "      <td>0</td>\n",
       "      <td>0</td>\n",
       "      <td>0</td>\n",
       "      <td>0</td>\n",
       "      <td>0</td>\n",
       "    </tr>\n",
       "  </tbody>\n",
       "</table>\n",
       "</div>"
      ],
      "text/plain": [
       "          state1  state2  state3  state4  state5  state6  state7  state8  \\\n",
       "state1         0       0       0       0       0       0       0       0   \n",
       "state2         0       0       0       0       0       0       0       0   \n",
       "state3         0       0       0       0       0       0       0       0   \n",
       "state4         0       0       0       0       0       0       0       0   \n",
       "state5         0       0       0       0       0       0       0       0   \n",
       "state6         0       0       0       0       0       0       0       0   \n",
       "state7         0       0       0       0       0       0       0       0   \n",
       "state8         0       0       0       0       0       0       0       0   \n",
       "state9         0       0       0       0       0       0       0       0   \n",
       "state10        0       0       0       0       0       0       0       0   \n",
       "state11        0       0       0       0       0       0       0       0   \n",
       "state12        0       0       0       0       0       0       0       0   \n",
       "inactive       0       0       0       0       0       0       0       0   \n",
       "\n",
       "          state9  state10  state11  state12  inactive  \n",
       "state1         0        0        0        0         0  \n",
       "state2         0        0        0        0         0  \n",
       "state3         0        0        0        0         0  \n",
       "state4         0        0        0        0         0  \n",
       "state5         0        0        0        0         0  \n",
       "state6         0        0        0        0         0  \n",
       "state7         0        0        0        0         0  \n",
       "state8         0        0        0        0         0  \n",
       "state9         0        0        0        0         0  \n",
       "state10        0        0        0        0         0  \n",
       "state11        0        0        0        0         0  \n",
       "state12        0        0        0        0         0  \n",
       "inactive       0        0        0        0         0  "
      ]
     },
     "execution_count": 43,
     "metadata": {},
     "output_type": "execute_result"
    }
   ],
   "source": [
    "trans_RMF_df = pd.DataFrame(0, columns=transRMFrows, index=transRMFrows)\n",
    "trans_RMF_df"
   ]
  },
  {
   "cell_type": "markdown",
   "metadata": {},
   "source": [
    "#### One-time RMF Transition Matrix"
   ]
  },
  {
   "cell_type": "code",
   "execution_count": 46,
   "metadata": {
    "collapsed": false
   },
   "outputs": [],
   "source": [
    "trans_RMF_df['state1'] = [i/4 for i in rmf_probs]\n",
    "trans_RMF_df['state2'] = [i/4 for i in rmf_probs]\n",
    "trans_RMF_df['state3'] = [i/4 for i in rmf_probs]\n",
    "trans_RMF_df['state4'] = [i/4 for i in rmf_probs]\n",
    "trans_RMF_df['state5'] = [(1-rmf_probs[0])/4, (1-rmf_probs[1])/4,  (1-rmf_probs[2])/4, (1-rmf_probs[3])/4,\\\n",
    "                          0, 0, 0, 0, 0, 0, 0, 0, 0]\n",
    "trans_RMF_df['state6'] = [(1-rmf_probs[0])/4, (1-rmf_probs[1])/4,  (1-rmf_probs[2])/4, (1-rmf_probs[3])/4,\\\n",
    "                          0, 0, 0, 0, 0, 0, 0, 0, 0]\n",
    "trans_RMF_df['state7'] = [(1-rmf_probs[0])/4, (1-rmf_probs[1])/4, (1-rmf_probs[2])/4, (1-rmf_probs[3])/4,\\\n",
    "                          0, 0, 0, 0, 0, 0, 0, 0, 0]\n",
    "trans_RMF_df['state8'] = [(1-rmf_probs[0])/4,  (1-rmf_probs[1])/4, (1-rmf_probs[2])/4, (1-rmf_probs[3])/4,\\\n",
    "                          0, 0, 0, 0, 0, 0, 0, 0, 0]\n",
    "trans_RMF_df['state9'] = [0, 0, 0, 0, (1-rmf_probs[4])/4, (1-rmf_probs[5])/4, (1-rmf_probs[6])/4, (1-rmf_probs[7])/4,\\\n",
    "                          0, 0, 0, 0, 0]\n",
    "trans_RMF_df['state10'] = [0, 0, 0, 0, (1-rmf_probs[4])/4, (1-rmf_probs[5])/4, (1-rmf_probs[6])/4, (1-rmf_probs[7])/4,\\\n",
    "                           0, 0, 0, 0, 0]\n",
    "trans_RMF_df['state11'] = [0, 0, 0, 0, (1-rmf_probs[4])/4, (1-rmf_probs[5])/4, (1-rmf_probs[6])/4, (1-rmf_probs[7])/4,\\\n",
    "                           0, 0, 0, 0, 0]\n",
    "trans_RMF_df['state12'] = [0, 0, 0, 0, (1-rmf_probs[4])/4, (1-rmf_probs[5])/4, (1-rmf_probs[6])/4, (1-rmf_probs[7])/4,\\\n",
    "                           0, 0, 0, 0, 0]\n",
    "trans_RMF_df['inactive']=[0, 0, 0, 0, 0, 0, 0, 0, 1-rmf_probs[8], 1-rmf_probs[9],1-rmf_probs[10],1-rmf_probs[11], 1]"
   ]
  },
  {
   "cell_type": "code",
   "execution_count": 45,
   "metadata": {
    "collapsed": false
   },
   "outputs": [
    {
     "data": {
      "text/html": [
       "<div>\n",
       "<table border=\"1\" class=\"dataframe\">\n",
       "  <thead>\n",
       "    <tr style=\"text-align: right;\">\n",
       "      <th></th>\n",
       "      <th>state1</th>\n",
       "      <th>state2</th>\n",
       "      <th>state3</th>\n",
       "      <th>state4</th>\n",
       "      <th>state5</th>\n",
       "      <th>state6</th>\n",
       "      <th>state7</th>\n",
       "      <th>state8</th>\n",
       "      <th>state9</th>\n",
       "      <th>state10</th>\n",
       "      <th>state11</th>\n",
       "      <th>state12</th>\n",
       "      <th>inactive</th>\n",
       "    </tr>\n",
       "  </thead>\n",
       "  <tbody>\n",
       "    <tr>\n",
       "      <th>state1</th>\n",
       "      <td>0.050687</td>\n",
       "      <td>0.050687</td>\n",
       "      <td>0.050687</td>\n",
       "      <td>0.050687</td>\n",
       "      <td>0.199313</td>\n",
       "      <td>0.199313</td>\n",
       "      <td>0.199313</td>\n",
       "      <td>0.199313</td>\n",
       "      <td>0.000000</td>\n",
       "      <td>0.000000</td>\n",
       "      <td>0.000000</td>\n",
       "      <td>0.000000</td>\n",
       "      <td>0.000000</td>\n",
       "    </tr>\n",
       "    <tr>\n",
       "      <th>state2</th>\n",
       "      <td>0.017063</td>\n",
       "      <td>0.017063</td>\n",
       "      <td>0.017063</td>\n",
       "      <td>0.017063</td>\n",
       "      <td>0.232937</td>\n",
       "      <td>0.232937</td>\n",
       "      <td>0.232937</td>\n",
       "      <td>0.232937</td>\n",
       "      <td>0.000000</td>\n",
       "      <td>0.000000</td>\n",
       "      <td>0.000000</td>\n",
       "      <td>0.000000</td>\n",
       "      <td>0.000000</td>\n",
       "    </tr>\n",
       "    <tr>\n",
       "      <th>state3</th>\n",
       "      <td>0.008525</td>\n",
       "      <td>0.008525</td>\n",
       "      <td>0.008525</td>\n",
       "      <td>0.008525</td>\n",
       "      <td>0.241475</td>\n",
       "      <td>0.241475</td>\n",
       "      <td>0.241475</td>\n",
       "      <td>0.241475</td>\n",
       "      <td>0.000000</td>\n",
       "      <td>0.000000</td>\n",
       "      <td>0.000000</td>\n",
       "      <td>0.000000</td>\n",
       "      <td>0.000000</td>\n",
       "    </tr>\n",
       "    <tr>\n",
       "      <th>state4</th>\n",
       "      <td>0.023579</td>\n",
       "      <td>0.023579</td>\n",
       "      <td>0.023579</td>\n",
       "      <td>0.023579</td>\n",
       "      <td>0.226421</td>\n",
       "      <td>0.226421</td>\n",
       "      <td>0.226421</td>\n",
       "      <td>0.226421</td>\n",
       "      <td>0.000000</td>\n",
       "      <td>0.000000</td>\n",
       "      <td>0.000000</td>\n",
       "      <td>0.000000</td>\n",
       "      <td>0.000000</td>\n",
       "    </tr>\n",
       "    <tr>\n",
       "      <th>state5</th>\n",
       "      <td>0.015366</td>\n",
       "      <td>0.015366</td>\n",
       "      <td>0.015366</td>\n",
       "      <td>0.015366</td>\n",
       "      <td>0.000000</td>\n",
       "      <td>0.000000</td>\n",
       "      <td>0.000000</td>\n",
       "      <td>0.000000</td>\n",
       "      <td>0.234634</td>\n",
       "      <td>0.234634</td>\n",
       "      <td>0.234634</td>\n",
       "      <td>0.234634</td>\n",
       "      <td>0.000000</td>\n",
       "    </tr>\n",
       "    <tr>\n",
       "      <th>state6</th>\n",
       "      <td>0.008280</td>\n",
       "      <td>0.008280</td>\n",
       "      <td>0.008280</td>\n",
       "      <td>0.008280</td>\n",
       "      <td>0.000000</td>\n",
       "      <td>0.000000</td>\n",
       "      <td>0.000000</td>\n",
       "      <td>0.000000</td>\n",
       "      <td>0.241720</td>\n",
       "      <td>0.241720</td>\n",
       "      <td>0.241720</td>\n",
       "      <td>0.241720</td>\n",
       "      <td>0.000000</td>\n",
       "    </tr>\n",
       "    <tr>\n",
       "      <th>state7</th>\n",
       "      <td>0.008457</td>\n",
       "      <td>0.008457</td>\n",
       "      <td>0.008457</td>\n",
       "      <td>0.008457</td>\n",
       "      <td>0.000000</td>\n",
       "      <td>0.000000</td>\n",
       "      <td>0.000000</td>\n",
       "      <td>0.000000</td>\n",
       "      <td>0.241543</td>\n",
       "      <td>0.241543</td>\n",
       "      <td>0.241543</td>\n",
       "      <td>0.241543</td>\n",
       "      <td>0.000000</td>\n",
       "    </tr>\n",
       "    <tr>\n",
       "      <th>state8</th>\n",
       "      <td>0.019941</td>\n",
       "      <td>0.019941</td>\n",
       "      <td>0.019941</td>\n",
       "      <td>0.019941</td>\n",
       "      <td>0.000000</td>\n",
       "      <td>0.000000</td>\n",
       "      <td>0.000000</td>\n",
       "      <td>0.000000</td>\n",
       "      <td>0.230059</td>\n",
       "      <td>0.230059</td>\n",
       "      <td>0.230059</td>\n",
       "      <td>0.230059</td>\n",
       "      <td>0.000000</td>\n",
       "    </tr>\n",
       "    <tr>\n",
       "      <th>state9</th>\n",
       "      <td>0.010588</td>\n",
       "      <td>0.010588</td>\n",
       "      <td>0.010588</td>\n",
       "      <td>0.010588</td>\n",
       "      <td>0.000000</td>\n",
       "      <td>0.000000</td>\n",
       "      <td>0.000000</td>\n",
       "      <td>0.000000</td>\n",
       "      <td>0.000000</td>\n",
       "      <td>0.000000</td>\n",
       "      <td>0.000000</td>\n",
       "      <td>0.000000</td>\n",
       "      <td>0.957648</td>\n",
       "    </tr>\n",
       "    <tr>\n",
       "      <th>state10</th>\n",
       "      <td>0.008172</td>\n",
       "      <td>0.008172</td>\n",
       "      <td>0.008172</td>\n",
       "      <td>0.008172</td>\n",
       "      <td>0.000000</td>\n",
       "      <td>0.000000</td>\n",
       "      <td>0.000000</td>\n",
       "      <td>0.000000</td>\n",
       "      <td>0.000000</td>\n",
       "      <td>0.000000</td>\n",
       "      <td>0.000000</td>\n",
       "      <td>0.000000</td>\n",
       "      <td>0.967313</td>\n",
       "    </tr>\n",
       "    <tr>\n",
       "      <th>state11</th>\n",
       "      <td>0.006746</td>\n",
       "      <td>0.006746</td>\n",
       "      <td>0.006746</td>\n",
       "      <td>0.006746</td>\n",
       "      <td>0.000000</td>\n",
       "      <td>0.000000</td>\n",
       "      <td>0.000000</td>\n",
       "      <td>0.000000</td>\n",
       "      <td>0.000000</td>\n",
       "      <td>0.000000</td>\n",
       "      <td>0.000000</td>\n",
       "      <td>0.000000</td>\n",
       "      <td>0.973014</td>\n",
       "    </tr>\n",
       "    <tr>\n",
       "      <th>state12</th>\n",
       "      <td>0.011783</td>\n",
       "      <td>0.011783</td>\n",
       "      <td>0.011783</td>\n",
       "      <td>0.011783</td>\n",
       "      <td>0.000000</td>\n",
       "      <td>0.000000</td>\n",
       "      <td>0.000000</td>\n",
       "      <td>0.000000</td>\n",
       "      <td>0.000000</td>\n",
       "      <td>0.000000</td>\n",
       "      <td>0.000000</td>\n",
       "      <td>0.000000</td>\n",
       "      <td>0.952870</td>\n",
       "    </tr>\n",
       "    <tr>\n",
       "      <th>inactive</th>\n",
       "      <td>0.000000</td>\n",
       "      <td>0.000000</td>\n",
       "      <td>0.000000</td>\n",
       "      <td>0.000000</td>\n",
       "      <td>0.000000</td>\n",
       "      <td>0.000000</td>\n",
       "      <td>0.000000</td>\n",
       "      <td>0.000000</td>\n",
       "      <td>0.000000</td>\n",
       "      <td>0.000000</td>\n",
       "      <td>0.000000</td>\n",
       "      <td>0.000000</td>\n",
       "      <td>1.000000</td>\n",
       "    </tr>\n",
       "  </tbody>\n",
       "</table>\n",
       "</div>"
      ],
      "text/plain": [
       "            state1    state2    state3    state4    state5    state6  \\\n",
       "state1    0.050687  0.050687  0.050687  0.050687  0.199313  0.199313   \n",
       "state2    0.017063  0.017063  0.017063  0.017063  0.232937  0.232937   \n",
       "state3    0.008525  0.008525  0.008525  0.008525  0.241475  0.241475   \n",
       "state4    0.023579  0.023579  0.023579  0.023579  0.226421  0.226421   \n",
       "state5    0.015366  0.015366  0.015366  0.015366  0.000000  0.000000   \n",
       "state6    0.008280  0.008280  0.008280  0.008280  0.000000  0.000000   \n",
       "state7    0.008457  0.008457  0.008457  0.008457  0.000000  0.000000   \n",
       "state8    0.019941  0.019941  0.019941  0.019941  0.000000  0.000000   \n",
       "state9    0.010588  0.010588  0.010588  0.010588  0.000000  0.000000   \n",
       "state10   0.008172  0.008172  0.008172  0.008172  0.000000  0.000000   \n",
       "state11   0.006746  0.006746  0.006746  0.006746  0.000000  0.000000   \n",
       "state12   0.011783  0.011783  0.011783  0.011783  0.000000  0.000000   \n",
       "inactive  0.000000  0.000000  0.000000  0.000000  0.000000  0.000000   \n",
       "\n",
       "            state7    state8    state9   state10   state11   state12  inactive  \n",
       "state1    0.199313  0.199313  0.000000  0.000000  0.000000  0.000000  0.000000  \n",
       "state2    0.232937  0.232937  0.000000  0.000000  0.000000  0.000000  0.000000  \n",
       "state3    0.241475  0.241475  0.000000  0.000000  0.000000  0.000000  0.000000  \n",
       "state4    0.226421  0.226421  0.000000  0.000000  0.000000  0.000000  0.000000  \n",
       "state5    0.000000  0.000000  0.234634  0.234634  0.234634  0.234634  0.000000  \n",
       "state6    0.000000  0.000000  0.241720  0.241720  0.241720  0.241720  0.000000  \n",
       "state7    0.000000  0.000000  0.241543  0.241543  0.241543  0.241543  0.000000  \n",
       "state8    0.000000  0.000000  0.230059  0.230059  0.230059  0.230059  0.000000  \n",
       "state9    0.000000  0.000000  0.000000  0.000000  0.000000  0.000000  0.957648  \n",
       "state10   0.000000  0.000000  0.000000  0.000000  0.000000  0.000000  0.967313  \n",
       "state11   0.000000  0.000000  0.000000  0.000000  0.000000  0.000000  0.973014  \n",
       "state12   0.000000  0.000000  0.000000  0.000000  0.000000  0.000000  0.952870  \n",
       "inactive  0.000000  0.000000  0.000000  0.000000  0.000000  0.000000  1.000000  "
      ]
     },
     "execution_count": 45,
     "metadata": {},
     "output_type": "execute_result"
    }
   ],
   "source": [
    "trans_RMF_df"
   ]
  },
  {
   "cell_type": "markdown",
   "metadata": {
    "deletable": true,
    "editable": true
   },
   "source": [
    "## Expected reward vector for each state"
   ]
  },
  {
   "cell_type": "markdown",
   "metadata": {
    "deletable": true,
    "editable": true
   },
   "source": [
    "---\n",
    "# NPV Calculation"
   ]
  },
  {
   "cell_type": "markdown",
   "metadata": {
    "deletable": true,
    "editable": true
   },
   "source": [
    "---\n",
    "## Annual revenues for the next 10 years\n"
   ]
  },
  {
   "cell_type": "code",
   "execution_count": null,
   "metadata": {
    "collapsed": true
   },
   "outputs": [],
   "source": []
  }
 ],
 "metadata": {
  "anaconda-cloud": {},
  "kernelspec": {
   "display_name": "Python 3",
   "language": "python",
   "name": "python3"
  },
  "language_info": {
   "codemirror_mode": {
    "name": "ipython",
    "version": 3
   },
   "file_extension": ".py",
   "mimetype": "text/x-python",
   "name": "python",
   "nbconvert_exporter": "python",
   "pygments_lexer": "ipython3",
   "version": "3.6.0"
  }
 },
 "nbformat": 4,
 "nbformat_minor": 1
}
