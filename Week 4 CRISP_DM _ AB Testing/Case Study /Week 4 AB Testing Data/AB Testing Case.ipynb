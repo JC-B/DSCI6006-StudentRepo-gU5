{
 "cells": [
  {
   "cell_type": "markdown",
   "metadata": {},
   "source": [
    "## 0. Import Data & Data Integrity Check"
   ]
  },
  {
   "cell_type": "code",
   "execution_count": 1,
   "metadata": {},
   "outputs": [
    {
     "name": "stdout",
     "output_type": "stream",
     "text": [
      "/Users/VanessaG/Desktop/udacity_experiment\n",
      "AB Testing Case.ipynb  \u001b[34mWeek 4 AB Testing Data\u001b[m\u001b[m\n"
     ]
    }
   ],
   "source": [
    "!pwd\n",
    "!ls"
   ]
  },
  {
   "cell_type": "code",
   "execution_count": 2,
   "metadata": {},
   "outputs": [
    {
     "data": {
      "text/html": [
       "<div>\n",
       "<style>\n",
       "    .dataframe thead tr:only-child th {\n",
       "        text-align: right;\n",
       "    }\n",
       "\n",
       "    .dataframe thead th {\n",
       "        text-align: left;\n",
       "    }\n",
       "\n",
       "    .dataframe tbody tr th {\n",
       "        vertical-align: top;\n",
       "    }\n",
       "</style>\n",
       "<table border=\"1\" class=\"dataframe\">\n",
       "  <thead>\n",
       "    <tr style=\"text-align: right;\">\n",
       "      <th></th>\n",
       "      <th>metric</th>\n",
       "      <th>baseline_val</th>\n",
       "    </tr>\n",
       "  </thead>\n",
       "  <tbody>\n",
       "    <tr>\n",
       "      <th>0</th>\n",
       "      <td>unique cookies to view page per day:</td>\n",
       "      <td>40000.000000</td>\n",
       "    </tr>\n",
       "    <tr>\n",
       "      <th>1</th>\n",
       "      <td>unique cookies to click \"start free trial\" per...</td>\n",
       "      <td>3200.000000</td>\n",
       "    </tr>\n",
       "    <tr>\n",
       "      <th>2</th>\n",
       "      <td>enrollments per day:</td>\n",
       "      <td>660.000000</td>\n",
       "    </tr>\n",
       "    <tr>\n",
       "      <th>3</th>\n",
       "      <td>click-through-probability on \"start free trial\":</td>\n",
       "      <td>0.080000</td>\n",
       "    </tr>\n",
       "    <tr>\n",
       "      <th>4</th>\n",
       "      <td>probability of enrolling, given click:</td>\n",
       "      <td>0.206250</td>\n",
       "    </tr>\n",
       "    <tr>\n",
       "      <th>5</th>\n",
       "      <td>probability of payment, given enroll:</td>\n",
       "      <td>0.530000</td>\n",
       "    </tr>\n",
       "    <tr>\n",
       "      <th>6</th>\n",
       "      <td>probability of payment, given click</td>\n",
       "      <td>0.109313</td>\n",
       "    </tr>\n",
       "  </tbody>\n",
       "</table>\n",
       "</div>"
      ],
      "text/plain": [
       "                                              metric  baseline_val\n",
       "0               unique cookies to view page per day:  40000.000000\n",
       "1  unique cookies to click \"start free trial\" per...   3200.000000\n",
       "2                               enrollments per day:    660.000000\n",
       "3   click-through-probability on \"start free trial\":      0.080000\n",
       "4             probability of enrolling, given click:      0.206250\n",
       "5              probability of payment, given enroll:      0.530000\n",
       "6                probability of payment, given click      0.109313"
      ]
     },
     "execution_count": 2,
     "metadata": {},
     "output_type": "execute_result"
    }
   ],
   "source": [
    "import numpy as np\n",
    "import pandas as pd\n",
    "\n",
    "df_basevals = pd.read_csv(\"Week 4 AB Testing Data/baseline.csv\", index_col=False, header=None, names = ['metric','baseline_val'])\n",
    "df_basevals.metric = df_basevals.metric.map(lambda x: x.lower())\n",
    "df_basevals"
   ]
  },
  {
   "cell_type": "code",
   "execution_count": 3,
   "metadata": {
    "collapsed": true
   },
   "outputs": [],
   "source": [
    "df_control = pd.read_csv(\"Week 4 AB Testing Data/control.csv\")\n",
    "df_experiment = pd.read_csv(\"Week 4 AB Testing Data/experiment.csv\")"
   ]
  },
  {
   "cell_type": "code",
   "execution_count": 4,
   "metadata": {},
   "outputs": [
    {
     "data": {
      "text/plain": [
       "((37, 5), (37, 5))"
      ]
     },
     "execution_count": 4,
     "metadata": {},
     "output_type": "execute_result"
    }
   ],
   "source": [
    "df_control.shape, df_experiment.shape"
   ]
  },
  {
   "cell_type": "code",
   "execution_count": 5,
   "metadata": {},
   "outputs": [
    {
     "data": {
      "text/plain": [
       "True"
      ]
     },
     "execution_count": 5,
     "metadata": {},
     "output_type": "execute_result"
    }
   ],
   "source": [
    "np.all(df_control['Date'].values == df_experiment['Date'].values)"
   ]
  },
  {
   "cell_type": "markdown",
   "metadata": {},
   "source": [
    "## 1. Variability"
   ]
  },
  {
   "cell_type": "markdown",
   "metadata": {},
   "source": [
    "#### Assuming Binomial distribution with probability p and population N, the analytical standard deviation is computed as std = sqrt(p * (1-p) / N)"
   ]
  },
  {
   "cell_type": "code",
   "execution_count": 6,
   "metadata": {
    "collapsed": true
   },
   "outputs": [],
   "source": [
    "# Random sample size\n",
    "sample_size = 10000\n",
    "p_ctp = 0.080000\n",
    "p_enroll_given_clicked = 0.206250\n",
    "p_pay_given_enrolled = 0.530000\n",
    "p_pay_given_clicked = 0.109313"
   ]
  },
  {
   "cell_type": "markdown",
   "metadata": {},
   "source": [
    "####  Regarding GrossConversion "
   ]
  },
  {
   "cell_type": "markdown",
   "metadata": {},
   "source": [
    "Unit of analysis : User ids enrolled\n",
    "    \n",
    "Unit of diversion : Cookies who click the \"start free trial\" page.\n",
    "    \n",
    "Unit of analysis and diversion correlated but not same\n",
    "\n",
    "So, better to collect data for empirical values if possible."
   ]
  },
  {
   "cell_type": "code",
   "execution_count": 7,
   "metadata": {},
   "outputs": [
    {
     "name": "stdout",
     "output_type": "stream",
     "text": [
      "Sample Size: 10000 \n",
      "Baseline Click through probability on start free trial : 0.08 \n",
      "Baseline probability for enrolling when start free trial clicked : 0.20625 \n",
      "Analytical SD for GrossConversion : 0.0143 \n"
     ]
    }
   ],
   "source": [
    "print('Sample Size: {} '.format(sample_size))\n",
    "print('Baseline Click through probability on start free trial : {} '.format(p_ctp))      \n",
    "print('Baseline probability for enrolling when start free trial clicked : {} '.format(p_enroll_given_clicked))\n",
    "analytical_sd_gc = round(np.sqrt((p_enroll_given_clicked*(1-p_enroll_given_clicked))/(sample_size*p_ctp)),4)\n",
    "print('Analytical SD for GrossConversion : {} '.format(analytical_sd_gc))"
   ]
  },
  {
   "cell_type": "markdown",
   "metadata": {},
   "source": [
    "####  Regarding NetConversion "
   ]
  },
  {
   "cell_type": "markdown",
   "metadata": {},
   "source": [
    "Unit of analysis : User ids paid\n",
    "\n",
    "Unit of diversion : Cookies who click the \"start free trial\" page. \n",
    "\n",
    "Unit of analysis and diversion correlated but not same\n",
    "\n",
    "So, better to collect data for empirical values if possible."
   ]
  },
  {
   "cell_type": "code",
   "execution_count": 8,
   "metadata": {},
   "outputs": [
    {
     "name": "stdout",
     "output_type": "stream",
     "text": [
      "Sample Size: 10000 \n",
      "Baseline Click through probability on start free trial : 0.08 \n",
      "Baseline probability for payment when start free trial clicked : 0.109313 \n",
      "Analytical SD for NetConversion : 0.011 \n"
     ]
    }
   ],
   "source": [
    "print('Sample Size: {} '.format(sample_size))\n",
    "print('Baseline Click through probability on start free trial : {} '.format(p_ctp))      \n",
    "print('Baseline probability for payment when start free trial clicked : {} '.format(p_pay_given_clicked))\n",
    "analytical_sd_nc = round(np.sqrt((p_pay_given_clicked*(1-p_pay_given_clicked))/(sample_size*p_ctp)),4)\n",
    "print('Analytical SD for NetConversion : {} '.format(analytical_sd_nc))"
   ]
  },
  {
   "cell_type": "markdown",
   "metadata": {},
   "source": [
    "####  Regarding Retention "
   ]
  },
  {
   "cell_type": "markdown",
   "metadata": {},
   "source": [
    "Unit of analysis : User ids paid\n",
    "    \n",
    "Unit of diversion : User ids enrolled\n",
    "\n",
    "Unit of analysis and diversion same\n",
    "\n",
    "So, empirical and analytical values should match"
   ]
  },
  {
   "cell_type": "code",
   "execution_count": 9,
   "metadata": {},
   "outputs": [
    {
     "name": "stdout",
     "output_type": "stream",
     "text": [
      "Sample Size: 10000 \n",
      "Baseline Click through probability on start free trial : 0.08 \n",
      "Baseline probability for enrolling when start free trial clicked : 0.20625 \n",
      "Baseline probability for payment when enrolled : 0.53 \n",
      "Analytical SD for NetConversion : 0.0389 \n"
     ]
    }
   ],
   "source": [
    "print('Sample Size: {} '.format(sample_size))\n",
    "print('Baseline Click through probability on start free trial : {} '.format(p_ctp))    \n",
    "print('Baseline probability for enrolling when start free trial clicked : {} '.format(p_enroll_given_clicked))\n",
    "print('Baseline probability for payment when enrolled : {} '.format(p_pay_given_enrolled))\n",
    "analytical_sd_retention = round(np.sqrt((p_pay_given_enrolled*(1-p_pay_given_enrolled))/(sample_size*p_enroll_given_clicked*p_ctp)),4)\n",
    "print('Analytical SD for NetConversion : {} '.format(analytical_sd_retention))"
   ]
  },
  {
   "cell_type": "markdown",
   "metadata": {},
   "source": [
    "## 2. Sizing"
   ]
  },
  {
   "cell_type": "markdown",
   "metadata": {},
   "source": [
    "We used this [sample size calulator](http://www.evanmiller.org/ab-testing/sample-size.html) to calculate sample size using a statistical power of 80% (1 - β | β = 0.2) and α = 0.05."
   ]
  },
  {
   "cell_type": "markdown",
   "metadata": {},
   "source": [
    "### 2.1 Choosing Number of Samples given Power"
   ]
  },
  {
   "cell_type": "markdown",
   "metadata": {},
   "source": [
    "####  Regarding GrossConversion "
   ]
  },
  {
   "cell_type": "code",
   "execution_count": 12,
   "metadata": {
    "scrolled": false
   },
   "outputs": [
    {
     "name": "stdout",
     "output_type": "stream",
     "text": [
      "645875.0 pageviews required to power Gross Conversion\n"
     ]
    }
   ],
   "source": [
    "# 20.625% baseline conversion for gross conversion & minimum detectable effect of 1%  \n",
    "gc_sample_size = 25835\n",
    "\n",
    "# for both control & experiment\n",
    "gc_total_sample_size = 2 * gc_sample_size\n",
    "\n",
    "# divide by click through probability to get pageviews\n",
    "gc_pageviews = gc_total_sample_size / p_ctp\n",
    "\n",
    "print('{} pageviews required to power Gross Conversion'.format(gc_pageviews))"
   ]
  },
  {
   "cell_type": "markdown",
   "metadata": {},
   "source": [
    "#### Regarding NetConversion"
   ]
  },
  {
   "cell_type": "code",
   "execution_count": 13,
   "metadata": {},
   "outputs": [
    {
     "name": "stdout",
     "output_type": "stream",
     "text": [
      "685325.0 pageviews required to power Net Conversion\n"
     ]
    }
   ],
   "source": [
    "# 10.9313% baseline conversion for net conversion & minimum detectable effect of 0.0075%\n",
    "nc_sample_size = 27413\n",
    "\n",
    "# for both control & experiment\n",
    "nc_total_sample_size = 2 * nc_sample_size\n",
    "\n",
    "# divide by click through probability to get pageviews\n",
    "nc_pageviews = nc_total_sample_size / p_ctp\n",
    "\n",
    "print('{} pageviews required to power Net Conversion'.format(nc_pageviews))"
   ]
  },
  {
   "cell_type": "markdown",
   "metadata": {},
   "source": [
    "#### Regarding Retention"
   ]
  },
  {
   "cell_type": "code",
   "execution_count": 18,
   "metadata": {},
   "outputs": [
    {
     "name": "stdout",
     "output_type": "stream",
     "text": [
      "4741212.12 pageviews required to power Retention\n"
     ]
    }
   ],
   "source": [
    "# 53.0% baseline conversion for retention & minimum detectable effect of 1%  \n",
    "ret_sample_size = 39115\n",
    "\n",
    "# for both control & experiment\n",
    "ret_total_sample_size = 2 * ret_sample_size\n",
    "\n",
    "# divide by click through probability, then gross conversion to get pageviews\n",
    "ret_pageviews = ret_total_sample_size / p_ctp / p_enroll_given_clicked\n",
    "\n",
    "print('{0:.2f} pageviews required to power Retention'.format(ret_pageviews))"
   ]
  },
  {
   "cell_type": "markdown",
   "metadata": {},
   "source": [
    "As the number pageviews to power the metric of Retention is quite high it would take too long to run the experiment, further supporting our decision to not include Retention as a metric. "
   ]
  },
  {
   "cell_type": "markdown",
   "metadata": {},
   "source": [
    "### 2.2 Choosing Duration vs Exposure"
   ]
  },
  {
   "cell_type": "markdown",
   "metadata": {},
   "source": [
    "#### Divert 100% of traffic to experiment"
   ]
  },
  {
   "cell_type": "code",
   "execution_count": 26,
   "metadata": {},
   "outputs": [
    {
     "name": "stdout",
     "output_type": "stream",
     "text": [
      "With 40,000 unique pageviews/day & 100% exposure, run test for 17.13 days\n"
     ]
    }
   ],
   "source": [
    "exp_100 = (nc_pageviews / df_basevals.baseline_val[0]) / 1\n",
    "\n",
    "print('With 40,000 unique pageviews/day & 100% exposure, run test for {0:.2f} days'.format(exp_100))"
   ]
  },
  {
   "cell_type": "markdown",
   "metadata": {},
   "source": [
    "#### Divert 75% of traffic to experiment"
   ]
  },
  {
   "cell_type": "code",
   "execution_count": 25,
   "metadata": {},
   "outputs": [
    {
     "name": "stdout",
     "output_type": "stream",
     "text": [
      "With 40,000 unique pageviews/day & 75% exposure, run test for 22.84 days\n"
     ]
    }
   ],
   "source": [
    "exp_75 = (nc_pageviews / df_basevals.baseline_val[0]) / 0.75\n",
    "\n",
    "print('With 40,000 unique pageviews/day & 75% exposure, run test for {0:.2f} days'.format(exp_75))"
   ]
  },
  {
   "cell_type": "markdown",
   "metadata": {},
   "source": [
    "#### Divert 50% of traffic to experiment"
   ]
  },
  {
   "cell_type": "code",
   "execution_count": 27,
   "metadata": {},
   "outputs": [
    {
     "name": "stdout",
     "output_type": "stream",
     "text": [
      "With 40,000 unique pageviews/day & 50% exposure, run test for 34.27 days\n"
     ]
    }
   ],
   "source": [
    "exp_50 = (nc_pageviews / df_basevals.baseline_val[0]) / 0.5\n",
    "\n",
    "print('With 40,000 unique pageviews/day & 50% exposure, run test for {0:.2f} days'.format(exp_50))"
   ]
  },
  {
   "cell_type": "markdown",
   "metadata": {},
   "source": [
    "## 3. Sanity Check"
   ]
  },
  {
   "cell_type": "markdown",
   "metadata": {},
   "source": [
    "Model the control and experiment group as a Bernoulli distribution with probability 0.5"
   ]
  },
  {
   "cell_type": "code",
   "execution_count": 10,
   "metadata": {},
   "outputs": [
    {
     "data": {
      "text/html": [
       "<div>\n",
       "<table border=\"1\" class=\"dataframe\">\n",
       "  <thead>\n",
       "    <tr style=\"text-align: right;\">\n",
       "      <th></th>\n",
       "      <th>Control</th>\n",
       "      <th>Experiment</th>\n",
       "    </tr>\n",
       "  </thead>\n",
       "  <tbody>\n",
       "    <tr>\n",
       "      <th>Pageviews</th>\n",
       "      <td>345543</td>\n",
       "      <td>344660</td>\n",
       "    </tr>\n",
       "    <tr>\n",
       "      <th>Clicks</th>\n",
       "      <td>28378</td>\n",
       "      <td>28325</td>\n",
       "    </tr>\n",
       "    <tr>\n",
       "      <th>Enrollments</th>\n",
       "      <td>3785</td>\n",
       "      <td>3423</td>\n",
       "    </tr>\n",
       "    <tr>\n",
       "      <th>Payments</th>\n",
       "      <td>2033</td>\n",
       "      <td>1945</td>\n",
       "    </tr>\n",
       "  </tbody>\n",
       "</table>\n",
       "</div>"
      ],
      "text/plain": [
       "             Control  Experiment\n",
       "Pageviews     345543      344660\n",
       "Clicks         28378       28325\n",
       "Enrollments     3785        3423\n",
       "Payments        2033        1945"
      ]
     },
     "execution_count": 10,
     "metadata": {},
     "output_type": "execute_result"
    }
   ],
   "source": [
    "df_results = pd.DataFrame(data={'Control':df_control.sum().drop('Date'), 'Experiment':df_experiment.sum().drop('Date')},\n",
    "                          dtype=int)\n",
    "df_results"
   ]
  },
  {
   "cell_type": "code",
   "execution_count": 11,
   "metadata": {},
   "outputs": [
    {
     "data": {
      "text/html": [
       "<div>\n",
       "<table border=\"1\" class=\"dataframe\">\n",
       "  <thead>\n",
       "    <tr style=\"text-align: right;\">\n",
       "      <th></th>\n",
       "      <th>Control</th>\n",
       "      <th>Experiment</th>\n",
       "      <th>Total</th>\n",
       "      <th>Prob</th>\n",
       "      <th>StdErr</th>\n",
       "      <th>MargErr</th>\n",
       "      <th>CI_lower</th>\n",
       "      <th>CI_upper</th>\n",
       "      <th>Obs_val</th>\n",
       "      <th>Pass_Sanity</th>\n",
       "      <th>Diff</th>\n",
       "    </tr>\n",
       "  </thead>\n",
       "  <tbody>\n",
       "    <tr>\n",
       "      <th>Pageviews</th>\n",
       "      <td>345543</td>\n",
       "      <td>344660</td>\n",
       "      <td>690203</td>\n",
       "      <td>0.5</td>\n",
       "      <td>0.000602</td>\n",
       "      <td>0.001180</td>\n",
       "      <td>0.498820</td>\n",
       "      <td>0.501180</td>\n",
       "      <td>0.499360</td>\n",
       "      <td>True</td>\n",
       "      <td>0.001279</td>\n",
       "    </tr>\n",
       "    <tr>\n",
       "      <th>Clicks</th>\n",
       "      <td>28378</td>\n",
       "      <td>28325</td>\n",
       "      <td>56703</td>\n",
       "      <td>0.5</td>\n",
       "      <td>0.002100</td>\n",
       "      <td>0.004116</td>\n",
       "      <td>0.495884</td>\n",
       "      <td>0.504116</td>\n",
       "      <td>0.499533</td>\n",
       "      <td>True</td>\n",
       "      <td>0.000935</td>\n",
       "    </tr>\n",
       "    <tr>\n",
       "      <th>Enrollments</th>\n",
       "      <td>3785</td>\n",
       "      <td>3423</td>\n",
       "      <td>7208</td>\n",
       "      <td>0.5</td>\n",
       "      <td>0.005889</td>\n",
       "      <td>0.011543</td>\n",
       "      <td>0.488457</td>\n",
       "      <td>0.511543</td>\n",
       "      <td>0.474889</td>\n",
       "      <td>False</td>\n",
       "      <td>0.050222</td>\n",
       "    </tr>\n",
       "    <tr>\n",
       "      <th>Payments</th>\n",
       "      <td>2033</td>\n",
       "      <td>1945</td>\n",
       "      <td>3978</td>\n",
       "      <td>0.5</td>\n",
       "      <td>0.007928</td>\n",
       "      <td>0.015538</td>\n",
       "      <td>0.484462</td>\n",
       "      <td>0.515538</td>\n",
       "      <td>0.488939</td>\n",
       "      <td>True</td>\n",
       "      <td>0.022122</td>\n",
       "    </tr>\n",
       "  </tbody>\n",
       "</table>\n",
       "</div>"
      ],
      "text/plain": [
       "             Control  Experiment   Total  Prob    StdErr   MargErr  CI_lower  \\\n",
       "Pageviews     345543      344660  690203   0.5  0.000602  0.001180  0.498820   \n",
       "Clicks         28378       28325   56703   0.5  0.002100  0.004116  0.495884   \n",
       "Enrollments     3785        3423    7208   0.5  0.005889  0.011543  0.488457   \n",
       "Payments        2033        1945    3978   0.5  0.007928  0.015538  0.484462   \n",
       "\n",
       "             CI_upper   Obs_val Pass_Sanity      Diff  \n",
       "Pageviews    0.501180  0.499360        True  0.001279  \n",
       "Clicks       0.504116  0.499533        True  0.000935  \n",
       "Enrollments  0.511543  0.474889       False  0.050222  \n",
       "Payments     0.515538  0.488939        True  0.022122  "
      ]
     },
     "execution_count": 11,
     "metadata": {},
     "output_type": "execute_result"
    }
   ],
   "source": [
    "df_results['Total']=df_results.Control + df_results.Experiment\n",
    "df_results['Prob'] = 0.5\n",
    "df_results['StdErr'] = np.sqrt((df_results.Prob * (1 - df_results.Prob))/df_results.Total)\n",
    "df_results[\"MargErr\"] = 1.96 * df_results.StdErr\n",
    "df_results[\"CI_lower\"] = df_results.Prob - df_results.MargErr\n",
    "df_results[\"CI_upper\"] = df_results.Prob + df_results.MargErr\n",
    "df_results[\"Obs_val\"] = df_results.Experiment/df_results.Total\n",
    "df_results[\"Pass_Sanity\"] = df_results.apply(lambda x: (x.Obs_val > x.CI_lower) and (x.Obs_val < x.CI_upper),axis=1)\n",
    "df_results['Diff'] = abs((df_results.Experiment - df_results.Control)/df_results.Total)\n",
    "\n",
    "df_results"
   ]
  },
  {
   "cell_type": "markdown",
   "metadata": {},
   "source": [
    "## 4. Metrics Calculation"
   ]
  },
  {
   "cell_type": "code",
   "execution_count": 12,
   "metadata": {
    "collapsed": true
   },
   "outputs": [],
   "source": [
    "df_control_t =  df_control[df_control['Enrollments'].notnull()].sum().drop('Date')\n",
    "df_experiment_t =  df_experiment[df_experiment['Enrollments'].notnull()].sum().drop('Date')"
   ]
  },
  {
   "cell_type": "code",
   "execution_count": 13,
   "metadata": {},
   "outputs": [
    {
     "data": {
      "text/plain": [
       "((4,), (4,))"
      ]
     },
     "execution_count": 13,
     "metadata": {},
     "output_type": "execute_result"
    }
   ],
   "source": [
    "df_control_t.shape, df_experiment_t.shape"
   ]
  },
  {
   "cell_type": "code",
   "execution_count": 14,
   "metadata": {},
   "outputs": [
    {
     "data": {
      "text/plain": [
       "Pageviews      211362\n",
       "Clicks          17260\n",
       "Enrollments      3423\n",
       "Payments         1945\n",
       "dtype: object"
      ]
     },
     "execution_count": 14,
     "metadata": {},
     "output_type": "execute_result"
    }
   ],
   "source": [
    "df_experiment_t"
   ]
  },
  {
   "cell_type": "code",
   "execution_count": 15,
   "metadata": {
    "collapsed": true
   },
   "outputs": [],
   "source": [
    "# experiment values\n",
    "enrollments_exp = df_experiment_t[\"Enrollments\"]\n",
    "clicks_exp = df_experiment_t[\"Clicks\"]\n",
    "payments_exp = df_experiment_t[\"Payments\"]\n",
    "\n",
    "# control values\n",
    "enrollments_cont = df_control_t[\"Enrollments\"]\n",
    "clicks_cont = df_control_t[\"Clicks\"]\n",
    "payments_cont = df_control_t[\"Payments\"]\n",
    "\n",
    "# metrics\n",
    "GrossConversion_exp = enrollments_exp/clicks_exp\n",
    "NetConversion_exp = payments_exp/clicks_exp\n",
    "GrossConversion_cont = enrollments_cont/clicks_cont\n",
    "NetConversion_cont = payments_cont/clicks_cont\n",
    "\n",
    "GrossConversion = (enrollments_exp + enrollments_cont)/(clicks_cont + clicks_exp)\n",
    "NetConversion = (payments_cont + payments_exp)/(clicks_cont + clicks_exp)"
   ]
  },
  {
   "cell_type": "code",
   "execution_count": 16,
   "metadata": {
    "collapsed": true
   },
   "outputs": [],
   "source": [
    "def ab_pool_cal(p_exp, p_cont, p_pool, n_exp, n_cont, z_alpha):\n",
    "    std_err = np.sqrt(p_pool * (1- p_pool )*(1/n_cont + 1/n_exp))\n",
    "    diff = p_exp - p_cont\n",
    "    marg_err = z_alpha * std_err\n",
    "    ci_lower = diff - marg_err\n",
    "    ci_upper = diff + marg_err\n",
    "    if diff > z_alpha*std_err or diff < -z_alpha*std_err:\n",
    "        print ('Test Z-score: {}, REJECT null hypothesis statistically significant'.format(diff/std_err))\n",
    "    else:\n",
    "        print ('Test Z-score: {}, FAIL to reject null hypothesis'.format(diff/std_err))\n",
    "    print ('Confidence Interval: ({},{})'.format(ci_lower, ci_upper))"
   ]
  },
  {
   "cell_type": "markdown",
   "metadata": {},
   "source": [
    "## 5. Hypothesis Test"
   ]
  },
  {
   "cell_type": "markdown",
   "metadata": {},
   "source": [
    "### 5.1 Hypothesis Test without Bonferroni Correction"
   ]
  },
  {
   "cell_type": "markdown",
   "metadata": {},
   "source": [
    "####  Regarding GrossConversion "
   ]
  },
  {
   "cell_type": "code",
   "execution_count": 17,
   "metadata": {},
   "outputs": [
    {
     "name": "stdout",
     "output_type": "stream",
     "text": [
      "GrossConversion: 0.20860706740369866 \n",
      "GrossConversion_exp: 0.19831981460023174 \n",
      "GrossConversion_cont: 0.2188746891805933 \n",
      "Test Z-score: -4.701830023753982, REJECT null hypothesis statistically significant\n",
      "Confidence Interval: (-0.0291233583354044,-0.01198639082531873)\n"
     ]
    }
   ],
   "source": [
    "print('GrossConversion: {} '.format(GrossConversion))\n",
    "print('GrossConversion_exp: {} '.format(GrossConversion_exp))\n",
    "print('GrossConversion_cont: {} '.format(GrossConversion_cont))\n",
    "ab_pool_cal(GrossConversion_exp, GrossConversion_cont, GrossConversion, clicks_exp, clicks_cont, 1.96)"
   ]
  },
  {
   "cell_type": "markdown",
   "metadata": {},
   "source": [
    "Since **Practical Significance** level for Gross Conversion is **0.01**, our metric Confidence Interval is outside of this (-0.01, 0.01) boundry. Therefore, the metric **is** also **practical significant**. "
   ]
  },
  {
   "cell_type": "markdown",
   "metadata": {},
   "source": [
    "#### Regarding NetConversion "
   ]
  },
  {
   "cell_type": "code",
   "execution_count": 18,
   "metadata": {},
   "outputs": [
    {
     "name": "stdout",
     "output_type": "stream",
     "text": [
      "NetConversion: 0.1151274853124186 \n",
      "NetConversion_exp: 0.1126882966396292 \n",
      "NetConversion_cont: 0.11756201931417337 \n",
      "Test Z-score: -1.4192001144365733, FAIL to reject null hypothesis\n",
      "Confidence Interval: (-0.011604624359891718,0.001857179010803383)\n"
     ]
    }
   ],
   "source": [
    "print('NetConversion: {} '.format(NetConversion))\n",
    "print('NetConversion_exp: {} '.format(NetConversion_exp))\n",
    "print('NetConversion_cont: {} '.format(NetConversion_cont))\n",
    "ab_pool_cal(NetConversion_exp, NetConversion_cont, NetConversion, clicks_exp, clicks_cont, 1.96)"
   ]
  },
  {
   "cell_type": "markdown",
   "metadata": {},
   "source": [
    "Since **Practical Significance** level for Net Conversion is **0.0075**, our metric Confidence Interval is within this (-0.0075, 0.0075) boundry. Therefore, the metric **is not practical significant** either."
   ]
  },
  {
   "cell_type": "markdown",
   "metadata": {},
   "source": [
    "### 5.2 Hypothesis Test with Bonferroni Correction"
   ]
  },
  {
   "cell_type": "markdown",
   "metadata": {},
   "source": [
    "##### We have two tests and the previous alpha level is 0.05, thus alpha level of individual test after bonferroni correction is 0.05/2 = 0.025, which indicates z-alpha is 2.24."
   ]
  },
  {
   "cell_type": "markdown",
   "metadata": {},
   "source": [
    "#### Regarding GrossConversion "
   ]
  },
  {
   "cell_type": "code",
   "execution_count": 19,
   "metadata": {},
   "outputs": [
    {
     "name": "stdout",
     "output_type": "stream",
     "text": [
      "GrossConversion: 0.20860706740369866 \n",
      "GrossConversion_exp: 0.19831981460023174 \n",
      "GrossConversion_cont: 0.2188746891805933 \n",
      "Test Z-score: -4.701830023753982, REJECT null hypothesis statistically significant\n",
      "Confidence Interval: (-0.030347427443267662,-0.010762321717455467)\n"
     ]
    }
   ],
   "source": [
    "print('GrossConversion: {} '.format(GrossConversion))\n",
    "print('GrossConversion_exp: {} '.format(GrossConversion_exp))\n",
    "print('GrossConversion_cont: {} '.format(GrossConversion_cont))\n",
    "ab_pool_cal(GrossConversion_exp, GrossConversion_cont, GrossConversion, clicks_exp, clicks_cont, 2.24)"
   ]
  },
  {
   "cell_type": "markdown",
   "metadata": {},
   "source": [
    "Since **Practical Significance** level for Gross Conversion is **0.01**, our metric Confidence Interval is outside of this (-0.01, 0.01) boundry. Therefore, the metric **is** also **practical significant**. "
   ]
  },
  {
   "cell_type": "markdown",
   "metadata": {},
   "source": [
    "#### Regarding NetConversion "
   ]
  },
  {
   "cell_type": "code",
   "execution_count": 20,
   "metadata": {},
   "outputs": [
    {
     "name": "stdout",
     "output_type": "stream",
     "text": [
      "NetConversion: 0.1151274853124186 \n",
      "NetConversion_exp: 0.1126882966396292 \n",
      "NetConversion_cont: 0.11756201931417337 \n",
      "Test Z-score: -1.4192001144365733, FAIL to reject null hypothesis\n",
      "Confidence Interval: (-0.012566181743512797,0.0028187363944244623)\n"
     ]
    }
   ],
   "source": [
    "print('NetConversion: {} '.format(NetConversion))\n",
    "print('NetConversion_exp: {} '.format(NetConversion_exp))\n",
    "print('NetConversion_cont: {} '.format(NetConversion_cont))\n",
    "ab_pool_cal(NetConversion_exp, NetConversion_cont, NetConversion, clicks_exp, clicks_cont, 2.24)"
   ]
  },
  {
   "cell_type": "markdown",
   "metadata": {},
   "source": [
    "Since **Practical Significance** level for Net Conversion is **0.0075**, our metric Confidence Interval is within this (-0.0075, 0.0075) boundry. Therefore, the metric **is not practical significant** either."
   ]
  },
  {
   "cell_type": "markdown",
   "metadata": {},
   "source": [
    "## 6. Sign Test"
   ]
  },
  {
   "cell_type": "code",
   "execution_count": 21,
   "metadata": {},
   "outputs": [
    {
     "data": {
      "text/html": [
       "<div>\n",
       "<table border=\"1\" class=\"dataframe\">\n",
       "  <thead>\n",
       "    <tr style=\"text-align: right;\">\n",
       "      <th></th>\n",
       "      <th>Date</th>\n",
       "      <th>GrossConversion</th>\n",
       "      <th>NetConversion</th>\n",
       "    </tr>\n",
       "  </thead>\n",
       "  <tbody>\n",
       "    <tr>\n",
       "      <th>0</th>\n",
       "      <td>Sat, Oct 11</td>\n",
       "      <td>0.195051</td>\n",
       "      <td>0.101892</td>\n",
       "    </tr>\n",
       "    <tr>\n",
       "      <th>1</th>\n",
       "      <td>Sun, Oct 12</td>\n",
       "      <td>0.188703</td>\n",
       "      <td>0.089859</td>\n",
       "    </tr>\n",
       "    <tr>\n",
       "      <th>2</th>\n",
       "      <td>Mon, Oct 13</td>\n",
       "      <td>0.183718</td>\n",
       "      <td>0.104510</td>\n",
       "    </tr>\n",
       "    <tr>\n",
       "      <th>3</th>\n",
       "      <td>Tue, Oct 14</td>\n",
       "      <td>0.186603</td>\n",
       "      <td>0.125598</td>\n",
       "    </tr>\n",
       "    <tr>\n",
       "      <th>4</th>\n",
       "      <td>Wed, Oct 15</td>\n",
       "      <td>0.194743</td>\n",
       "      <td>0.076464</td>\n",
       "    </tr>\n",
       "  </tbody>\n",
       "</table>\n",
       "</div>"
      ],
      "text/plain": [
       "          Date  GrossConversion  NetConversion\n",
       "0  Sat, Oct 11         0.195051       0.101892\n",
       "1  Sun, Oct 12         0.188703       0.089859\n",
       "2  Mon, Oct 13         0.183718       0.104510\n",
       "3  Tue, Oct 14         0.186603       0.125598\n",
       "4  Wed, Oct 15         0.194743       0.076464"
      ]
     },
     "execution_count": 21,
     "metadata": {},
     "output_type": "execute_result"
    }
   ],
   "source": [
    "df_control_sign = df_control[df_control['Enrollments'].notnull()].copy()\n",
    "df_control_sign['GrossConversion'] = df_control_sign.Enrollments / df_control_sign.Clicks\n",
    "df_control_sign['NetConversion'] = df_control_sign.Payments / df_control_sign.Clicks\n",
    "df_control_sign = df_control_sign[['Date','GrossConversion','NetConversion']]\n",
    "df_control_sign.head()"
   ]
  },
  {
   "cell_type": "code",
   "execution_count": 22,
   "metadata": {
    "collapsed": true
   },
   "outputs": [],
   "source": [
    "df_experiment_sign = df_experiment[df_experiment['Enrollments'].notnull()].copy()\n",
    "df_experiment_sign['GrossConversion'] = df_experiment_sign.Enrollments / df_experiment_sign.Clicks\n",
    "df_experiment_sign['NetConversion'] = df_experiment_sign.Payments / df_experiment_sign.Clicks\n",
    "df_experiment_sign = df_experiment_sign[['Date','GrossConversion','NetConversion']]"
   ]
  },
  {
   "cell_type": "code",
   "execution_count": 23,
   "metadata": {
    "collapsed": true
   },
   "outputs": [],
   "source": [
    "df_SignTest = pd.merge(df_control_sign,df_experiment_sign,on=\"Date\",suffixes=('_cont', '_exp'))\n",
    "df_SignTest['GC_Sign'] = df_SignTest.GrossConversion_cont > df_SignTest.GrossConversion_exp\n",
    "df_SignTest['NC_Sign'] = df_SignTest.NetConversion_cont >= df_SignTest.NetConversion_exp"
   ]
  },
  {
   "cell_type": "code",
   "execution_count": 24,
   "metadata": {},
   "outputs": [
    {
     "data": {
      "text/plain": [
       "(23, 19, 13)"
      ]
     },
     "execution_count": 24,
     "metadata": {},
     "output_type": "execute_result"
    }
   ],
   "source": [
    "len(df_SignTest['GC_Sign']), df_SignTest['GC_Sign'].sum(), df_SignTest['NC_Sign'].sum()"
   ]
  },
  {
   "cell_type": "code",
   "execution_count": 25,
   "metadata": {},
   "outputs": [
    {
     "data": {
      "text/plain": [
       "0.0025994777679443364"
      ]
     },
     "execution_count": 25,
     "metadata": {},
     "output_type": "execute_result"
    }
   ],
   "source": [
    "from scipy.stats import binom_test\n",
    "binom_test(19, 23, 0.5)"
   ]
  },
  {
   "cell_type": "markdown",
   "metadata": {},
   "source": [
    "For **Gross Conversion**, the number of days we see an improvement in experiment group is 19, out of total 23 days of experiment. With probability 0.5 (for sign test), the p-value is 0.0026, which is smaller than alpha level, 0.05. Therefore the change is **statistical significant**."
   ]
  },
  {
   "cell_type": "code",
   "execution_count": 26,
   "metadata": {},
   "outputs": [
    {
     "data": {
      "text/plain": [
       "0.67763948440551747"
      ]
     },
     "execution_count": 26,
     "metadata": {},
     "output_type": "execute_result"
    }
   ],
   "source": [
    "binom_test(13, 23, 0.5)"
   ]
  },
  {
   "cell_type": "markdown",
   "metadata": {},
   "source": [
    "For **Net Conversion**, the number of days we see a decrease in experiment group is 13, out of total 23 days of experiment. With probability 0.5 (for sign test), the p-value is 0.677, which is bigger than alpha level, 0.05. Therefore the change is **not statistical significant**."
   ]
  },
  {
   "cell_type": "markdown",
   "metadata": {},
   "source": [
    "## 7. Conclusion"
   ]
  },
  {
   "cell_type": "markdown",
   "metadata": {},
   "source": [
    "Our objective is to determine whether filtering students by study time commitment would improve the overall student experience and the coaches' capacity to support students. This is expected to lead to a higher number of students who are likely to complete the course. Moreover, it should also not significantly reduce the number of students who continue past the free trial. \n",
    "\n",
    "A statistically and practically signficant decrease in Gross Conversion was observed but with no significant differences in Net Conversion. This translates to a decrease in enrollment not coupled to an increase in students staying for the requisite 14 days to trigger payment. \n",
    "\n",
    "Considering this, our recomendation is not to launch, but rather to pursue other experiments."
   ]
  }
 ],
 "metadata": {
  "kernelspec": {
   "display_name": "Python 3",
   "language": "python",
   "name": "python3"
  },
  "language_info": {
   "codemirror_mode": {
    "name": "ipython",
    "version": 3
   },
   "file_extension": ".py",
   "mimetype": "text/x-python",
   "name": "python",
   "nbconvert_exporter": "python",
   "pygments_lexer": "ipython3",
   "version": "3.5.3"
  }
 },
 "nbformat": 4,
 "nbformat_minor": 2
}
