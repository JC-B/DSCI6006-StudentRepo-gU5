{
 "cells": [
  {
   "cell_type": "code",
   "execution_count": 1,
   "metadata": {
    "collapsed": false
   },
   "outputs": [
    {
     "name": "stdout",
     "output_type": "stream",
     "text": [
      "Populating the interactive namespace from numpy and matplotlib\n"
     ]
    },
    {
     "name": "stderr",
     "output_type": "stream",
     "text": [
      "/Users/jaichitra.balakrishnan/anaconda3/lib/python3.6/site-packages/IPython/core/magics/pylab.py:161: UserWarning: pylab import has clobbered these variables: ['sqrt']\n",
      "`%matplotlib` prevents importing * from pylab and numpy\n",
      "  \"\\n`%matplotlib` prevents importing * from pylab and numpy\"\n"
     ]
    }
   ],
   "source": [
    "import pandas as pd\n",
    "import numpy as np\n",
    "from math import sqrt\n",
    "import seaborn as sns\n",
    "%pylab inline\n",
    "from sklearn.cluster import KMeans\n",
    "from sklearn.metrics import silhouette_score\n",
    "from sklearn.model_selection import train_test_split\n",
    "from sklearn.linear_model import LogisticRegression"
   ]
  },
  {
   "cell_type": "markdown",
   "metadata": {},
   "source": [
    "#### Read data"
   ]
  },
  {
   "cell_type": "code",
   "execution_count": 2,
   "metadata": {
    "collapsed": false
   },
   "outputs": [],
   "source": [
    "df = pd.read_csv(\"Nomis Solutions_Data Part I.csv\")"
   ]
  },
  {
   "cell_type": "code",
   "execution_count": 3,
   "metadata": {
    "collapsed": false
   },
   "outputs": [
    {
     "data": {
      "text/html": [
       "<div>\n",
       "<table border=\"1\" class=\"dataframe\">\n",
       "  <thead>\n",
       "    <tr style=\"text-align: right;\">\n",
       "      <th></th>\n",
       "      <th>Tier</th>\n",
       "      <th>FICO</th>\n",
       "      <th>Approve Date</th>\n",
       "      <th>Term</th>\n",
       "      <th>Amount</th>\n",
       "      <th>Previous Rate</th>\n",
       "      <th>Car  Type</th>\n",
       "      <th>Competition rate</th>\n",
       "      <th>Outcome</th>\n",
       "      <th>Rate</th>\n",
       "      <th>Cost of Funds</th>\n",
       "      <th>Partner Bin</th>\n",
       "    </tr>\n",
       "  </thead>\n",
       "  <tbody>\n",
       "    <tr>\n",
       "      <th>0</th>\n",
       "      <td>3.0</td>\n",
       "      <td>695.0</td>\n",
       "      <td>7/1/02</td>\n",
       "      <td>72.0</td>\n",
       "      <td>35000.0</td>\n",
       "      <td></td>\n",
       "      <td>N</td>\n",
       "      <td>6.25</td>\n",
       "      <td>0.0</td>\n",
       "      <td>7.49</td>\n",
       "      <td>1.8388</td>\n",
       "      <td>1.0</td>\n",
       "    </tr>\n",
       "    <tr>\n",
       "      <th>1</th>\n",
       "      <td>1.0</td>\n",
       "      <td>751.0</td>\n",
       "      <td>7/1/02</td>\n",
       "      <td>60.0</td>\n",
       "      <td>40000.0</td>\n",
       "      <td></td>\n",
       "      <td>N</td>\n",
       "      <td>5.65</td>\n",
       "      <td>0.0</td>\n",
       "      <td>5.49</td>\n",
       "      <td>1.8388</td>\n",
       "      <td>3.0</td>\n",
       "    </tr>\n",
       "    <tr>\n",
       "      <th>2</th>\n",
       "      <td>1.0</td>\n",
       "      <td>731.0</td>\n",
       "      <td>7/1/02</td>\n",
       "      <td>60.0</td>\n",
       "      <td>18064.0</td>\n",
       "      <td></td>\n",
       "      <td>N</td>\n",
       "      <td>5.65</td>\n",
       "      <td>0.0</td>\n",
       "      <td>5.49</td>\n",
       "      <td>1.8388</td>\n",
       "      <td>3.0</td>\n",
       "    </tr>\n",
       "    <tr>\n",
       "      <th>3</th>\n",
       "      <td>4.0</td>\n",
       "      <td>652.0</td>\n",
       "      <td>7/1/02</td>\n",
       "      <td>72.0</td>\n",
       "      <td>15415.0</td>\n",
       "      <td></td>\n",
       "      <td>N</td>\n",
       "      <td>6.25</td>\n",
       "      <td>0.0</td>\n",
       "      <td>8.99</td>\n",
       "      <td>1.8388</td>\n",
       "      <td>3.0</td>\n",
       "    </tr>\n",
       "    <tr>\n",
       "      <th>4</th>\n",
       "      <td>1.0</td>\n",
       "      <td>730.0</td>\n",
       "      <td>7/1/02</td>\n",
       "      <td>48.0</td>\n",
       "      <td>32000.0</td>\n",
       "      <td></td>\n",
       "      <td>N</td>\n",
       "      <td>5.65</td>\n",
       "      <td>0.0</td>\n",
       "      <td>5.49</td>\n",
       "      <td>1.8388</td>\n",
       "      <td>1.0</td>\n",
       "    </tr>\n",
       "  </tbody>\n",
       "</table>\n",
       "</div>"
      ],
      "text/plain": [
       "   Tier   FICO Approve Date  Term   Amount Previous Rate Car  Type  \\\n",
       "0   3.0  695.0       7/1/02  72.0  35000.0                       N   \n",
       "1   1.0  751.0       7/1/02  60.0  40000.0                       N   \n",
       "2   1.0  731.0       7/1/02  60.0  18064.0                       N   \n",
       "3   4.0  652.0       7/1/02  72.0  15415.0                       N   \n",
       "4   1.0  730.0       7/1/02  48.0  32000.0                       N   \n",
       "\n",
       "   Competition rate  Outcome  Rate  Cost of Funds  Partner Bin  \n",
       "0              6.25      0.0  7.49         1.8388          1.0  \n",
       "1              5.65      0.0  5.49         1.8388          3.0  \n",
       "2              5.65      0.0  5.49         1.8388          3.0  \n",
       "3              6.25      0.0  8.99         1.8388          3.0  \n",
       "4              5.65      0.0  5.49         1.8388          1.0  "
      ]
     },
     "execution_count": 3,
     "metadata": {},
     "output_type": "execute_result"
    }
   ],
   "source": [
    "df.head()"
   ]
  },
  {
   "cell_type": "markdown",
   "metadata": {},
   "source": [
    "#### Clean up and prepare data"
   ]
  },
  {
   "cell_type": "code",
   "execution_count": 4,
   "metadata": {
    "collapsed": false
   },
   "outputs": [],
   "source": [
    "# Replace column name for standard formats\n",
    "df.columns = [c.replace('  ', ' ').replace(' ', '_').lower() for c in df.columns]\n",
    "# Keep only cluster columns\n",
    "df = df.drop('approve_date', 1)\n",
    "# Drop NANs\n",
    "df.dropna(inplace=True)\n",
    "# Replace spaces in previous rate with 0 and make column to float\n",
    "df.previous_rate = df.previous_rate.apply(lambda x:0 if x == ' ' else float(x))\n",
    "# Make a copy\n",
    "df_copy = df.copy()\n",
    "# Add individual columns for car types\n",
    "df = pd.get_dummies(df)\n",
    "## Make all to float values\n",
    "df = df.apply(lambda x:x.astype(float))"
   ]
  },
  {
   "cell_type": "code",
   "execution_count": 5,
   "metadata": {
    "collapsed": false
   },
   "outputs": [
    {
     "data": {
      "text/html": [
       "<div>\n",
       "<table border=\"1\" class=\"dataframe\">\n",
       "  <thead>\n",
       "    <tr style=\"text-align: right;\">\n",
       "      <th></th>\n",
       "      <th>tier</th>\n",
       "      <th>fico</th>\n",
       "      <th>term</th>\n",
       "      <th>amount</th>\n",
       "      <th>previous_rate</th>\n",
       "      <th>competition_rate</th>\n",
       "      <th>outcome</th>\n",
       "      <th>rate</th>\n",
       "      <th>cost_of_funds</th>\n",
       "      <th>partner_bin</th>\n",
       "      <th>car_type_N</th>\n",
       "      <th>car_type_R</th>\n",
       "      <th>car_type_U</th>\n",
       "    </tr>\n",
       "  </thead>\n",
       "  <tbody>\n",
       "    <tr>\n",
       "      <th>0</th>\n",
       "      <td>3.0</td>\n",
       "      <td>695.0</td>\n",
       "      <td>72.0</td>\n",
       "      <td>35000.0</td>\n",
       "      <td>0.0</td>\n",
       "      <td>6.25</td>\n",
       "      <td>0.0</td>\n",
       "      <td>7.49</td>\n",
       "      <td>1.8388</td>\n",
       "      <td>1.0</td>\n",
       "      <td>1.0</td>\n",
       "      <td>0.0</td>\n",
       "      <td>0.0</td>\n",
       "    </tr>\n",
       "    <tr>\n",
       "      <th>1</th>\n",
       "      <td>1.0</td>\n",
       "      <td>751.0</td>\n",
       "      <td>60.0</td>\n",
       "      <td>40000.0</td>\n",
       "      <td>0.0</td>\n",
       "      <td>5.65</td>\n",
       "      <td>0.0</td>\n",
       "      <td>5.49</td>\n",
       "      <td>1.8388</td>\n",
       "      <td>3.0</td>\n",
       "      <td>1.0</td>\n",
       "      <td>0.0</td>\n",
       "      <td>0.0</td>\n",
       "    </tr>\n",
       "    <tr>\n",
       "      <th>2</th>\n",
       "      <td>1.0</td>\n",
       "      <td>731.0</td>\n",
       "      <td>60.0</td>\n",
       "      <td>18064.0</td>\n",
       "      <td>0.0</td>\n",
       "      <td>5.65</td>\n",
       "      <td>0.0</td>\n",
       "      <td>5.49</td>\n",
       "      <td>1.8388</td>\n",
       "      <td>3.0</td>\n",
       "      <td>1.0</td>\n",
       "      <td>0.0</td>\n",
       "      <td>0.0</td>\n",
       "    </tr>\n",
       "    <tr>\n",
       "      <th>3</th>\n",
       "      <td>4.0</td>\n",
       "      <td>652.0</td>\n",
       "      <td>72.0</td>\n",
       "      <td>15415.0</td>\n",
       "      <td>0.0</td>\n",
       "      <td>6.25</td>\n",
       "      <td>0.0</td>\n",
       "      <td>8.99</td>\n",
       "      <td>1.8388</td>\n",
       "      <td>3.0</td>\n",
       "      <td>1.0</td>\n",
       "      <td>0.0</td>\n",
       "      <td>0.0</td>\n",
       "    </tr>\n",
       "    <tr>\n",
       "      <th>4</th>\n",
       "      <td>1.0</td>\n",
       "      <td>730.0</td>\n",
       "      <td>48.0</td>\n",
       "      <td>32000.0</td>\n",
       "      <td>0.0</td>\n",
       "      <td>5.65</td>\n",
       "      <td>0.0</td>\n",
       "      <td>5.49</td>\n",
       "      <td>1.8388</td>\n",
       "      <td>1.0</td>\n",
       "      <td>1.0</td>\n",
       "      <td>0.0</td>\n",
       "      <td>0.0</td>\n",
       "    </tr>\n",
       "  </tbody>\n",
       "</table>\n",
       "</div>"
      ],
      "text/plain": [
       "   tier   fico  term   amount  previous_rate  competition_rate  outcome  rate  \\\n",
       "0   3.0  695.0  72.0  35000.0            0.0              6.25      0.0  7.49   \n",
       "1   1.0  751.0  60.0  40000.0            0.0              5.65      0.0  5.49   \n",
       "2   1.0  731.0  60.0  18064.0            0.0              5.65      0.0  5.49   \n",
       "3   4.0  652.0  72.0  15415.0            0.0              6.25      0.0  8.99   \n",
       "4   1.0  730.0  48.0  32000.0            0.0              5.65      0.0  5.49   \n",
       "\n",
       "   cost_of_funds  partner_bin  car_type_N  car_type_R  car_type_U  \n",
       "0         1.8388          1.0         1.0         0.0         0.0  \n",
       "1         1.8388          3.0         1.0         0.0         0.0  \n",
       "2         1.8388          3.0         1.0         0.0         0.0  \n",
       "3         1.8388          3.0         1.0         0.0         0.0  \n",
       "4         1.8388          1.0         1.0         0.0         0.0  "
      ]
     },
     "execution_count": 5,
     "metadata": {},
     "output_type": "execute_result"
    }
   ],
   "source": [
    "df.head()"
   ]
  },
  {
   "cell_type": "code",
   "execution_count": 6,
   "metadata": {
    "collapsed": false
   },
   "outputs": [
    {
     "data": {
      "text/plain": [
       "208077"
      ]
     },
     "execution_count": 6,
     "metadata": {},
     "output_type": "execute_result"
    }
   ],
   "source": [
    "df.tier.count()"
   ]
  },
  {
   "cell_type": "markdown",
   "metadata": {},
   "source": [
    "#### Find best number of clusters with cross validation on sample using kmeans silhouette scores"
   ]
  },
  {
   "cell_type": "code",
   "execution_count": 7,
   "metadata": {
    "collapsed": true
   },
   "outputs": [],
   "source": [
    "def find_cv_silhouette_scores(df,max_size=20):\n",
    "    \"\"\"Run a three fold CV on 10,000 samples from the dataframe to determine the ideal number of clusters.\n",
    "    Output is the ideal number of clusters of 3 CV folds with 10k samples.\"\"\"\n",
    "    silhouette_scores = []\n",
    "    for clusters in range(2,120):\n",
    "        knn_classifier = KMeans(clusters)\n",
    "        this_silhouette_scores = []\n",
    "        for _ in range(3): ## CV for samples\n",
    "            sample = df.sample(10000)\n",
    "            fit_knn = knn_classifier.fit(X=sample.values)\n",
    "            predicted_labels = fit_knn.labels_\n",
    "            this_silhouette_scores.append(silhouette_score(X=sample,labels=predicted_labels))\n",
    "        silhouette_scores.append(np.mean(this_silhouette_scores))\n",
    "        print('Finished iteration {}'.format(clusters))\n",
    "    number_of_clusters = [i for i in range(2,120)]\n",
    "    plt.plot([i for i in range(2,120)],silhouette_scores)\n",
    "    plt.title('Ideal Number of Clusters')\n",
    "    plt.ylabel('Silhouette score')\n",
    "    plt.xlabel('Number of clusters')\n",
    "    print('The best number of clusters is {}'.format(number_of_clusters[np.argmax(np.array(silhouette_scores))]))"
   ]
  },
  {
   "cell_type": "code",
   "execution_count": 8,
   "metadata": {
    "collapsed": false
   },
   "outputs": [
    {
     "name": "stdout",
     "output_type": "stream",
     "text": [
      "Finished iteration 2\n",
      "Finished iteration 3\n",
      "Finished iteration 4\n",
      "Finished iteration 5\n",
      "Finished iteration 6\n",
      "Finished iteration 7\n",
      "Finished iteration 8\n",
      "Finished iteration 9\n",
      "Finished iteration 10\n",
      "Finished iteration 11\n",
      "Finished iteration 12\n",
      "Finished iteration 13\n",
      "Finished iteration 14\n",
      "Finished iteration 15\n",
      "Finished iteration 16\n",
      "Finished iteration 17\n",
      "Finished iteration 18\n",
      "Finished iteration 19\n",
      "Finished iteration 20\n",
      "Finished iteration 21\n",
      "Finished iteration 22\n",
      "Finished iteration 23\n",
      "Finished iteration 24\n",
      "Finished iteration 25\n",
      "Finished iteration 26\n",
      "Finished iteration 27\n",
      "Finished iteration 28\n",
      "Finished iteration 29\n",
      "Finished iteration 30\n",
      "Finished iteration 31\n",
      "Finished iteration 32\n",
      "Finished iteration 33\n",
      "Finished iteration 34\n",
      "Finished iteration 35\n",
      "Finished iteration 36\n",
      "Finished iteration 37\n",
      "Finished iteration 38\n",
      "Finished iteration 39\n",
      "Finished iteration 40\n",
      "Finished iteration 41\n",
      "Finished iteration 42\n",
      "Finished iteration 43\n",
      "Finished iteration 44\n",
      "Finished iteration 45\n",
      "Finished iteration 46\n",
      "Finished iteration 47\n",
      "Finished iteration 48\n",
      "Finished iteration 49\n",
      "Finished iteration 50\n",
      "Finished iteration 51\n",
      "Finished iteration 52\n",
      "Finished iteration 53\n",
      "Finished iteration 54\n",
      "Finished iteration 55\n",
      "Finished iteration 56\n",
      "Finished iteration 57\n",
      "Finished iteration 58\n",
      "Finished iteration 59\n",
      "Finished iteration 60\n",
      "Finished iteration 61\n",
      "Finished iteration 62\n",
      "Finished iteration 63\n",
      "Finished iteration 64\n",
      "Finished iteration 65\n",
      "Finished iteration 66\n",
      "Finished iteration 67\n",
      "Finished iteration 68\n",
      "Finished iteration 69\n",
      "Finished iteration 70\n",
      "Finished iteration 71\n",
      "Finished iteration 72\n",
      "Finished iteration 73\n",
      "Finished iteration 74\n",
      "Finished iteration 75\n",
      "Finished iteration 76\n",
      "Finished iteration 77\n",
      "Finished iteration 78\n",
      "Finished iteration 79\n",
      "Finished iteration 80\n",
      "Finished iteration 81\n",
      "Finished iteration 82\n",
      "Finished iteration 83\n",
      "Finished iteration 84\n",
      "Finished iteration 85\n",
      "Finished iteration 86\n",
      "Finished iteration 87\n",
      "Finished iteration 88\n",
      "Finished iteration 89\n",
      "Finished iteration 90\n",
      "Finished iteration 91\n",
      "Finished iteration 92\n",
      "Finished iteration 93\n",
      "Finished iteration 94\n",
      "Finished iteration 95\n",
      "Finished iteration 96\n",
      "Finished iteration 97\n",
      "Finished iteration 98\n",
      "Finished iteration 99\n",
      "Finished iteration 100\n",
      "Finished iteration 101\n",
      "Finished iteration 102\n",
      "Finished iteration 103\n",
      "Finished iteration 104\n",
      "Finished iteration 105\n",
      "Finished iteration 106\n",
      "Finished iteration 107\n",
      "Finished iteration 108\n",
      "Finished iteration 109\n",
      "Finished iteration 110\n",
      "Finished iteration 111\n",
      "Finished iteration 112\n",
      "Finished iteration 113\n",
      "Finished iteration 114\n",
      "Finished iteration 115\n",
      "Finished iteration 116\n",
      "Finished iteration 117\n",
      "Finished iteration 118\n",
      "Finished iteration 119\n",
      "The best number of clusters is 92\n"
     ]
    },
    {
     "data": {
      "image/png": "[encoded data removed]",
      "text/plain": [
       "<matplotlib.figure.Figure at 0x10b956438>"
      ]
     },
     "metadata": {},
     "output_type": "display_data"
    }
   ],
   "source": [
    "# This takes ~30 minutes to run\n",
    "find_cv_silhouette_scores(df)"
   ]
  },
  {
   "cell_type": "markdown",
   "metadata": {},
   "source": [
    "#### Adding cluster numbers to the data"
   ]
  },
  {
   "cell_type": "code",
   "execution_count": 10,
   "metadata": {
    "collapsed": false
   },
   "outputs": [],
   "source": [
    "def find_clusters(df,cluster_size=4):\n",
    "    \"\"\"Using the cluster size for the number of centers, find the cluster index in the dataset\"\"\"\n",
    "    sample = df\n",
    "    knn_classifier = KMeans(cluster_size)\n",
    "    fit_knn = knn_classifier.fit(X=sample.values)\n",
    "    predicted_labels = fit_knn.labels_\n",
    "    centers = fit_knn.cluster_centers_\n",
    "    print(centers)\n",
    "    return predicted_labels"
   ]
  },
  {
   "cell_type": "code",
   "execution_count": 11,
   "metadata": {
    "collapsed": false
   },
   "outputs": [
    {
     "name": "stdout",
     "output_type": "stream",
     "text": [
      "[[  1.92503748e+00   7.26896552e+02   4.51349325e+01 ...,   4.42278861e-02\n",
      "    5.76461769e-01   3.79310345e-01]\n",
      " [  1.79619565e+00   7.32317255e+02   6.03831522e+01 ...,   8.22916667e-01\n",
      "    4.68750000e-02   1.30208333e-01]\n",
      " [  1.96900560e+00   7.24083943e+02   5.62703401e+01 ...,   3.23719328e-01\n",
      "    4.82565648e-01   1.93715024e-01]\n",
      " ..., \n",
      " [  1.76500000e+00   7.33549231e+02   6.15023077e+01 ...,   8.41538462e-01\n",
      "    4.57692308e-02   1.12692308e-01]\n",
      " [  1.95934959e+00   7.23821138e+02   6.24878049e+01 ...,   8.37398374e-01\n",
      "    4.06504065e-02   1.21951220e-01]\n",
      " [  2.03155434e+00   7.21986755e+02   5.27798987e+01 ...,   1.58550838e-01\n",
      "    5.55512271e-01   2.85936891e-01]]\n"
     ]
    }
   ],
   "source": [
    "## store the cluster labels\n",
    "df_labels = find_clusters(df, 92)"
   ]
  },
  {
   "cell_type": "code",
   "execution_count": 12,
   "metadata": {
    "collapsed": false
   },
   "outputs": [
    {
     "data": {
      "text/plain": [
       "15    12740\n",
       "11    10225\n",
       "46     9610\n",
       "35     8135\n",
       "25     7248\n",
       "20     4842\n",
       "40     4591\n",
       "8      4456\n",
       "1      4416\n",
       "50     4044\n",
       "37     3961\n",
       "36     3819\n",
       "9      3777\n",
       "33     3728\n",
       "32     3629\n",
       "6      3608\n",
       "58     3581\n",
       "65     3306\n",
       "87     3227\n",
       "14     3216\n",
       "27     3181\n",
       "63     3139\n",
       "29     3139\n",
       "77     3065\n",
       "44     2928\n",
       "42     2831\n",
       "89     2600\n",
       "13     2598\n",
       "39     2587\n",
       "91     2574\n",
       "      ...  \n",
       "51     1139\n",
       "38     1121\n",
       "28     1055\n",
       "31     1032\n",
       "43      993\n",
       "55      797\n",
       "67      792\n",
       "86      766\n",
       "24      760\n",
       "26      659\n",
       "62      611\n",
       "10      589\n",
       "57      397\n",
       "4       391\n",
       "60      387\n",
       "76      221\n",
       "45      201\n",
       "41      163\n",
       "78      152\n",
       "30      137\n",
       "90      123\n",
       "34       77\n",
       "7        53\n",
       "21       47\n",
       "84       45\n",
       "47       41\n",
       "80       37\n",
       "85       23\n",
       "18       20\n",
       "49        6\n",
       "dtype: int64"
      ]
     },
     "execution_count": 12,
     "metadata": {},
     "output_type": "execute_result"
    }
   ],
   "source": [
    "# Check number of data points in clusters\n",
    "numcdp = pd.Series(df_labels).value_counts()\n",
    "numcdp"
   ]
  },
  {
   "cell_type": "code",
   "execution_count": 13,
   "metadata": {
    "collapsed": true
   },
   "outputs": [],
   "source": [
    "df['cluster_number'] = pd.Series(df_labels)"
   ]
  },
  {
   "cell_type": "code",
   "execution_count": 14,
   "metadata": {
    "collapsed": true
   },
   "outputs": [],
   "source": [
    "def create_lcmodel_per_cluster(df,cluster_size=4):\n",
    "    \"\"\"Create a logistic regression model for each cluster to predict outcome \n",
    "    Return RMSE and model for each cluster.\n",
    "    \"\"\"\n",
    "    rmses = []\n",
    "    models = []\n",
    "    for i in range(cluster_size):        \n",
    "        clusterdf = df[df.cluster_number==i]\n",
    "        df_X =clusterdf.loc[:,('tier', 'fico', 'term', 'amount', 'rate', 'partner_bin', \\\n",
    "       'previous_rate', 'competition_rate', 'cost_of_funds',\\\n",
    "        'car_type_N', 'car_type_R', 'car_type_U')]        \n",
    "        df_y = clusterdf['outcome']\n",
    "        # train test split\n",
    "        X_train, X_test, y_train, y_test = train_test_split(df_X, df_y, test_size=0.3)\n",
    "        # create the classifier\n",
    "        logcmodel = LogisticRegression()\n",
    "        logcmodel.fit(X_train,y_train)\n",
    "        predictions = logcmodel.predict(X_test)\n",
    "        rmses.append(np.linalg.norm(y_test - predictions)/sqrt(len(y_test)))\n",
    "        models.append(logcmodel)\n",
    "    return rmses, models"
   ]
  },
  {
   "cell_type": "code",
   "execution_count": 16,
   "metadata": {
    "collapsed": false
   },
   "outputs": [],
   "source": [
    "def playing_around_models(df,cluster_size=4):\n",
    "    \"\"\"Create a logistic regression model for each cluster to predict outcome \n",
    "    Return RMSE and model for each cluster.\n",
    "    \"\"\"\n",
    "    rmses = []\n",
    "    models = []\n",
    "    acc = []\n",
    "    acc0 = []\n",
    "    acc1 = []\n",
    "    for i in range(cluster_size):        \n",
    "        clusterdf = df[df.cluster_number==i]\n",
    "        #clusterdf = df\n",
    "        #df_X =clusterdf.loc[:,('tier', 'fico', 'term', 'amount', 'rate', 'partner_bin', \\\n",
    "        #'previous_rate', 'competition_rate', 'cost_of_funds',\\\n",
    "        #'car_type_N', 'car_type_R', 'car_type_U')]        \n",
    "        df_X =clusterdf.loc[:,('fico', 'amount', 'rate', 'competition_rate')]        \n",
    "        df_y = clusterdf['outcome']\n",
    "        # train test split\n",
    "        X_train, X_test, y_train, y_test = train_test_split(df_X, df_y, test_size=0.6)\n",
    "        # create the classifier\n",
    "        logcmodel = LogisticRegression()\n",
    "        logcmodel.fit(X_train,y_train)\n",
    "        predictions = logcmodel.predict(X_test)\n",
    "        rmses.append(np.linalg.norm(y_test - predictions)/sqrt(len(y_test)))\n",
    "        orig0 = []\n",
    "        orig1 = []\n",
    "        pred0 = []\n",
    "        pred1 = []\n",
    "        for i, j in enumerate(y_test):\n",
    "            if j == 0:\n",
    "                orig0.append(j)\n",
    "                pred0.append(predictions[i])\n",
    "            else:\n",
    "                orig1.append(j)\n",
    "                pred1.append(predictions[i])                \n",
    "        print(len(orig0), len(pred0), sum(orig0))\n",
    "        print(len(orig1), len(pred1), sum(orig1))        \n",
    "        acc0.append(np.sum(np.array(orig0)== np.array(pred0))/ len(orig0))\n",
    "        acc1.append(np.sum(np.array(orig1)== np.array(pred1))/ len(orig1))\n",
    "        acc.append(np.sum(y_test == predictions)/ len(y_test))\n",
    "        models.append(logcmodel)\n",
    "    return acc0, acc1, acc, rmses, models"
   ]
  },
  {
   "cell_type": "code",
   "execution_count": 133,
   "metadata": {
    "collapsed": false
   },
   "outputs": [
    {
     "name": "stdout",
     "output_type": "stream",
     "text": [
      "30080 30080 0.0\n",
      "7968 7968 7968.0\n"
     ]
    }
   ],
   "source": [
    "a0, a1, a, r1, m1 = playing_around_models(df, 1)"
   ]
  },
  {
   "cell_type": "code",
   "execution_count": 134,
   "metadata": {
    "collapsed": false
   },
   "outputs": [
    {
     "data": {
      "text/plain": [
       "([0.96479388297872337], [0.18762550200803213], [0.80203952901597986])"
      ]
     },
     "execution_count": 134,
     "metadata": {},
     "output_type": "execute_result"
    }
   ],
   "source": [
    "a0, a1, a"
   ]
  },
  {
   "cell_type": "code",
   "execution_count": 17,
   "metadata": {
    "collapsed": false
   },
   "outputs": [],
   "source": [
    "rmses, models = create_lcmodel_per_cluster(df, 4)"
   ]
  },
  {
   "cell_type": "code",
   "execution_count": 18,
   "metadata": {
    "collapsed": false
   },
   "outputs": [
    {
     "data": {
      "text/plain": [
       "[0.55568076761658514,\n",
       " 0.2798997159844176,\n",
       " 0.43449101352953318,\n",
       " 0.24556061339763022]"
      ]
     },
     "execution_count": 18,
     "metadata": {},
     "output_type": "execute_result"
    }
   ],
   "source": [
    "rmses"
   ]
  },
  {
   "cell_type": "code",
   "execution_count": 19,
   "metadata": {
    "collapsed": true
   },
   "outputs": [],
   "source": [
    "df.to_csv('clustered_data.csv')"
   ]
  },
  {
   "cell_type": "code",
   "execution_count": 20,
   "metadata": {
    "collapsed": false
   },
   "outputs": [
    {
     "data": {
      "text/html": [
       "<div>\n",
       "<table border=\"1\" class=\"dataframe\">\n",
       "  <thead>\n",
       "    <tr style=\"text-align: right;\">\n",
       "      <th></th>\n",
       "      <th>tier</th>\n",
       "      <th>fico</th>\n",
       "      <th>term</th>\n",
       "      <th>amount</th>\n",
       "      <th>previous_rate</th>\n",
       "      <th>competition_rate</th>\n",
       "      <th>outcome</th>\n",
       "      <th>rate</th>\n",
       "      <th>cost_of_funds</th>\n",
       "      <th>partner_bin</th>\n",
       "      <th>car_type_N</th>\n",
       "      <th>car_type_R</th>\n",
       "      <th>car_type_U</th>\n",
       "      <th>cluster_number</th>\n",
       "    </tr>\n",
       "  </thead>\n",
       "  <tbody>\n",
       "    <tr>\n",
       "      <th>0</th>\n",
       "      <td>3.0</td>\n",
       "      <td>695.0</td>\n",
       "      <td>72.0</td>\n",
       "      <td>35000.0</td>\n",
       "      <td>0.0</td>\n",
       "      <td>6.25</td>\n",
       "      <td>0.0</td>\n",
       "      <td>7.49</td>\n",
       "      <td>1.8388</td>\n",
       "      <td>1.0</td>\n",
       "      <td>1.0</td>\n",
       "      <td>0.0</td>\n",
       "      <td>0.0</td>\n",
       "      <td>1.0</td>\n",
       "    </tr>\n",
       "    <tr>\n",
       "      <th>1</th>\n",
       "      <td>1.0</td>\n",
       "      <td>751.0</td>\n",
       "      <td>60.0</td>\n",
       "      <td>40000.0</td>\n",
       "      <td>0.0</td>\n",
       "      <td>5.65</td>\n",
       "      <td>0.0</td>\n",
       "      <td>5.49</td>\n",
       "      <td>1.8388</td>\n",
       "      <td>3.0</td>\n",
       "      <td>1.0</td>\n",
       "      <td>0.0</td>\n",
       "      <td>0.0</td>\n",
       "      <td>1.0</td>\n",
       "    </tr>\n",
       "    <tr>\n",
       "      <th>2</th>\n",
       "      <td>1.0</td>\n",
       "      <td>731.0</td>\n",
       "      <td>60.0</td>\n",
       "      <td>18064.0</td>\n",
       "      <td>0.0</td>\n",
       "      <td>5.65</td>\n",
       "      <td>0.0</td>\n",
       "      <td>5.49</td>\n",
       "      <td>1.8388</td>\n",
       "      <td>3.0</td>\n",
       "      <td>1.0</td>\n",
       "      <td>0.0</td>\n",
       "      <td>0.0</td>\n",
       "      <td>0.0</td>\n",
       "    </tr>\n",
       "    <tr>\n",
       "      <th>3</th>\n",
       "      <td>4.0</td>\n",
       "      <td>652.0</td>\n",
       "      <td>72.0</td>\n",
       "      <td>15415.0</td>\n",
       "      <td>0.0</td>\n",
       "      <td>6.25</td>\n",
       "      <td>0.0</td>\n",
       "      <td>8.99</td>\n",
       "      <td>1.8388</td>\n",
       "      <td>3.0</td>\n",
       "      <td>1.0</td>\n",
       "      <td>0.0</td>\n",
       "      <td>0.0</td>\n",
       "      <td>0.0</td>\n",
       "    </tr>\n",
       "    <tr>\n",
       "      <th>4</th>\n",
       "      <td>1.0</td>\n",
       "      <td>730.0</td>\n",
       "      <td>48.0</td>\n",
       "      <td>32000.0</td>\n",
       "      <td>0.0</td>\n",
       "      <td>5.65</td>\n",
       "      <td>0.0</td>\n",
       "      <td>5.49</td>\n",
       "      <td>1.8388</td>\n",
       "      <td>1.0</td>\n",
       "      <td>1.0</td>\n",
       "      <td>0.0</td>\n",
       "      <td>0.0</td>\n",
       "      <td>1.0</td>\n",
       "    </tr>\n",
       "  </tbody>\n",
       "</table>\n",
       "</div>"
      ],
      "text/plain": [
       "   tier   fico  term   amount  previous_rate  competition_rate  outcome  rate  \\\n",
       "0   3.0  695.0  72.0  35000.0            0.0              6.25      0.0  7.49   \n",
       "1   1.0  751.0  60.0  40000.0            0.0              5.65      0.0  5.49   \n",
       "2   1.0  731.0  60.0  18064.0            0.0              5.65      0.0  5.49   \n",
       "3   4.0  652.0  72.0  15415.0            0.0              6.25      0.0  8.99   \n",
       "4   1.0  730.0  48.0  32000.0            0.0              5.65      0.0  5.49   \n",
       "\n",
       "   cost_of_funds  partner_bin  car_type_N  car_type_R  car_type_U  \\\n",
       "0         1.8388          1.0         1.0         0.0         0.0   \n",
       "1         1.8388          3.0         1.0         0.0         0.0   \n",
       "2         1.8388          3.0         1.0         0.0         0.0   \n",
       "3         1.8388          3.0         1.0         0.0         0.0   \n",
       "4         1.8388          1.0         1.0         0.0         0.0   \n",
       "\n",
       "   cluster_number  \n",
       "0             1.0  \n",
       "1             1.0  \n",
       "2             0.0  \n",
       "3             0.0  \n",
       "4             1.0  "
      ]
     },
     "execution_count": 20,
     "metadata": {},
     "output_type": "execute_result"
    }
   ],
   "source": [
    "df.head()"
   ]
  },
  {
   "cell_type": "code",
   "execution_count": null,
   "metadata": {
    "collapsed": true
   },
   "outputs": [],
   "source": []
  }
 ],
 "metadata": {
  "anaconda-cloud": {},
  "kernelspec": {
   "display_name": "Python 3",
   "language": "python",
   "name": "python3"
  },
  "language_info": {
   "codemirror_mode": {
    "name": "ipython",
    "version": 3
   },
   "file_extension": ".py",
   "mimetype": "text/x-python",
   "name": "python",
   "nbconvert_exporter": "python",
   "pygments_lexer": "ipython3",
   "version": "3.6.0"
  }
 },
 "nbformat": 4,
 "nbformat_minor": 1
}
